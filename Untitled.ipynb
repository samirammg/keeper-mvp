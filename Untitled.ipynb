{
 "cells": [
  {
   "cell_type": "code",
   "execution_count": null,
   "id": "29c189e4-0464-4fcd-841f-d7ca33be674b",
   "metadata": {},
   "outputs": [],
   "source": [
    "import os\n",
    "from datetime import datetime\n",
    "\n",
    "st.markdown(\"---\")\n",
    "st.markdown(\"### 💬 We’d love your feedback on this page\")\n",
    "\n",
    "# Instructional clue\n",
    "st.info(\"Please share what you think about this section — clarity, usefulness, ideas, or anything that feels missing.\")\n",
    "\n",
    "# Feedback text\n",
    "feedback_text = st.text_area(\"🗣️ Your Feedback\", placeholder=\"Write your thoughts here...\")\n",
    "\n",
    "# Priority rating\n",
    "priority = st.selectbox(\n",
    "    \"How important is this feature or section to you?\",\n",
    "    [\"\", \"🧨 Painkiller – Critical\", \"✨ Nice to Have\", \"🤷 Not Sure\"],\n",
    "    index=0\n",
    ")\n",
    "\n",
    "# Optional slider as alternative (comment this out if you prefer the selectbox above)\n",
    "# priority = st.slider(\"How valuable is this to you?\", 0, 10, 5, help=\"0 = not valuable, 10 = absolutely critical\")\n",
    "\n",
    "# Submit\n",
    "if st.button(\"📩 Submit Feedback\"):\n",
    "    if not feedback_text.strip() or not priority:\n",
    "        st.warning(\"Please write your feedback and select how important it is.\")\n",
    "    else:\n",
    "        # Use session state values stored from entry.py\n",
    "        user = st.session_state.get(\"user_name\", \"unknown\")\n",
    "        email = st.session_state.get(\"user_email\", \"unknown\")\n",
    "        role = st.session_state.get(\"user_role\", \"unknown\")\n",
    "\n",
    "        # Create feedback directory if not exists\n",
    "        os.makedirs(\"feedback\", exist_ok=True)\n",
    "\n",
    "        # Use current page name dynamically (like Pulse, Journey, etc.)\n",
    "        page_id = __name__.replace(\"pages.\", \"\").replace(\".py\", \"\")\n",
    "        file_path = f\"feedback/{page_id}_feedback.csv\"\n",
    "\n",
    "        with open(file_path, \"a\") as f:\n",
    "            f.write(f\"{datetime.now()},{user},{email},{role},{page_id},{priority},{feedback_text.strip()}\\n\")\n",
    "\n",
    "        st.success(\"✅ Thanks! Your feedback has been recorded.\")\n"
   ]
  }
 ],
 "metadata": {
  "kernelspec": {
   "display_name": "Python [conda env:base] *",
   "language": "python",
   "name": "conda-base-py"
  },
  "language_info": {
   "codemirror_mode": {
    "name": "ipython",
    "version": 3
   },
   "file_extension": ".py",
   "mimetype": "text/x-python",
   "name": "python",
   "nbconvert_exporter": "python",
   "pygments_lexer": "ipython3",
   "version": "3.12.3"
  }
 },
 "nbformat": 4,
 "nbformat_minor": 5
}
