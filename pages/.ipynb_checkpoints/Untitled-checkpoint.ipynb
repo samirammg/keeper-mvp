{
 "cells": [
  {
   "cell_type": "code",
   "execution_count": 1,
   "id": "24c58844-46c1-47d5-b684-41192d4426dd",
   "metadata": {},
   "outputs": [
    {
     "data": {
      "text/plain": [
       "(14, 5)"
      ]
     },
     "execution_count": 1,
     "metadata": {},
     "output_type": "execute_result"
    }
   ],
   "source": [
    "import streamlit as st\n",
    "\n",
    "# --- Set Streamlit Page Config ---\n",
    "st.set_page_config(page_title=\"Keeper Agents\", layout=\"wide\")\n",
    "\n",
    "# --- Title and Subtitle ---\n",
    "st.title(\"🚀 Keeper Agentic Intelligence\")\n",
    "st.markdown(\"Explore Keeper’s network of Thinkers, Doers, and Customizers powering post-sales success.\")\n",
    "\n",
    "# --- Sample KPI Values (replace with real counts later) ---\n",
    "num_thinkers = 7\n",
    "num_doers = 20\n",
    "num_customizers = 5\n",
    "num_recommended_agents = 10\n",
    "\n",
    "# --- KPI Display Section ---\n",
    "kpi_cols = st.columns(4)\n",
    "\n",
    "# Custom card function (consistent with other pages like Strategy)\n",
    "def kpi_card(title, value):\n",
    "    return f\"\"\"\n",
    "    <div style=\"border:1px solid #e0e0e0; padding:10px; border-radius:8px; background-color:#f9f9f9; width: 100%; margin-bottom:10px\">\n",
    "        <h6 style=\"margin-bottom:0; font-size:14px;\">{title}</h6>\n",
    "        <p style=\"font-size: 22px; font-weight: bold; margin:5px 0\">{value}</p>\n",
    "    </div>\n",
    "    \"\"\"\n",
    "\n",
    "with kpi_cols[0]:\n",
    "    st.markdown(kpi_card(\"🧠 Thinkers\", num_thinkers), unsafe_allow_html=True)\n",
    "with kpi_cols[1]:\n",
    "    st.markdown(kpi_card(\"🔧 Doers\", num_doers), unsafe_allow_html=True)\n",
    "with kpi_cols[2]:\n",
    "    st.markdown(kpi_card(\"🎨 Customizers\", num_customizers), unsafe_allow_html=True)\n",
    "with kpi_cols[3]:\n",
    "    st.markdown(kpi_card(\"🌟 Recommended Agents\", num_recommended_agents), unsafe_allow_html=True)\n",
    "\n",
    "st.markdown(\"---\")\n"
   ]
  },
  {
   "cell_type": "code",
   "execution_count": null,
   "id": "a262d15f-b359-4f81-bd4c-4403ba5fca14",
   "metadata": {},
   "outputs": [],
   "source": []
  }
 ],
 "metadata": {
  "kernelspec": {
   "display_name": "Python [conda env:base] *",
   "language": "python",
   "name": "conda-base-py"
  },
  "language_info": {
   "codemirror_mode": {
    "name": "ipython",
    "version": 3
   },
   "file_extension": ".py",
   "mimetype": "text/x-python",
   "name": "python",
   "nbconvert_exporter": "python",
   "pygments_lexer": "ipython3",
   "version": "3.12.7"
  }
 },
 "nbformat": 4,
 "nbformat_minor": 5
}
