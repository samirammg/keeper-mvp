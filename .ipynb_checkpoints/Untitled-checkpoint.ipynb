{
 "cells": [
  {
   "cell_type": "code",
   "execution_count": null,
   "id": "29c189e4-0464-4fcd-841f-d7ca33be674b",
   "metadata": {},
   "outputs": [],
   "source": [
    "import streamlit as st\n",
    "import re\n",
    "\n",
    "# --- Page Config ---\n",
    "st.set_page_config(page_title=\"Keeper MVP Access\", layout=\"centered\")\n",
    "\n",
    "st.title(\"🔐 Access Keeper MVP\")\n",
    "\n",
    "st.markdown(\"Please fill out the form below to view the MVP. All fields are required.\")\n",
    "\n",
    "# --- Form Fields ---\n",
    "full_name = st.text_input(\"Full Name\")\n",
    "email = st.text_input(\"Email\", placeholder=\"you@example.com\")\n",
    "role = st.selectbox(\"Your Role\", [\"\", \"Executive\", \"Leader / Manager\", \"Individual Contributor\", \"Advisor\",\"Investor\"])\n",
    "access_code = st.text_input(\"Access Code\", type=\"password\")\n",
    "\n",
    "# --- Access Code ---\n",
    "SECRET_CODE = \"keeper2025\"\n",
    "\n",
    "# --- Email format checker ---\n",
    "def is_valid_email(email):\n",
    "    pattern = r\"^[\\w\\.-]+@[\\w\\.-]+\\.\\w+$\"\n",
    "    return re.match(pattern, email)\n",
    "\n",
    "# --- Button + Validation ---\n",
    "if st.button(\"Enter\"):\n",
    "    if not full_name.strip() or not email.strip() or role == \"\" or not access_code.strip():\n",
    "        st.error(\"❌ Please fill out all fields.\")\n",
    "    elif not is_valid_email(email):\n",
    "        st.error(\"❌ Please enter a valid email address.\")\n",
    "    elif access_code != SECRET_CODE:\n",
    "        st.error(\"❌ Invalid access code.\")\n",
    "    else:\n",
    "        # Save user info\n",
    "        st.session_state[\"authenticated\"] = True\n",
    "        st.session_state[\"user_name\"] = full_name.strip()\n",
    "        st.session_state[\"user_email\"] = email.strip()\n",
    "        st.session_state[\"user_role\"] = role\n",
    "\n",
    "        st.success(\"✅ Access granted! Redirecting...\")\n",
    "\n",
    "        # 🔁 Make sure your target file (like app.py) is inside /pages and matches this name exactly\n",
    "        st.switch_page(\"app\")  # NOT app.py — just the filename without extension\n"
   ]
  }
 ],
 "metadata": {
  "kernelspec": {
   "display_name": "Python [conda env:base] *",
   "language": "python",
   "name": "conda-base-py"
  },
  "language_info": {
   "codemirror_mode": {
    "name": "ipython",
    "version": 3
   },
   "file_extension": ".py",
   "mimetype": "text/x-python",
   "name": "python",
   "nbconvert_exporter": "python",
   "pygments_lexer": "ipython3",
   "version": "3.12.3"
  }
 },
 "nbformat": 4,
 "nbformat_minor": 5
}
