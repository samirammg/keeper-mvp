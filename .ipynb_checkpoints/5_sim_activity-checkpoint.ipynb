{
 "cells": [
  {
   "cell_type": "code",
   "execution_count": null,
   "id": "059a6810-de2f-4060-af91-1dbffd74c78c",
   "metadata": {},
   "outputs": [],
   "source": [
    "#################### usage data simulation"
   ]
  },
  {
   "cell_type": "code",
   "execution_count": null,
   "id": "1b031a81-099f-45fc-b0fa-6eb7decb4a94",
   "metadata": {},
   "outputs": [],
   "source": [
    "import pandas as pd\n",
    "import numpy as np\n",
    "from datetime import timedelta\n",
    "from scipy.stats import zscore\n",
    "\n",
    "# Load the Excel file\n",
    "def load_contract_data(file_path):\n",
    "    df_contracts = pd.read_excel(file_path)\n",
    "    df_contracts[\"contract_start_date\"] = pd.to_datetime(df_contracts[\"contract_start_date\"])\n",
    "    df_contracts[\"contract_end_date\"] = pd.to_datetime(df_contracts[\"contract_end_date\"])\n",
    "    \n",
    "    # Define contract_status based on ischr, isup, and isrenew\n",
    "    conditions = [\n",
    "        (df_contracts[\"ischr\"] == 1),\n",
    "        (df_contracts[\"isup\"] == 1)\n",
    "    ]\n",
    "    choices = [\"churned\", \"upsell\"]\n",
    "    df_contracts[\"contract_status\"] = np.select(conditions, choices, default=\"unknown\")\n",
    "    \n",
    "    return df_contracts\n",
    "\n",
    "# Function to generate product usage data\n",
    "def generate_usage_data(df_contracts):\n",
    "    expanded_rows = []\n",
    "    \n",
    "    for _, row in df_contracts.iterrows():\n",
    "        total_user = np.ceil(row[\"clv_contract\"] / 4000)  # Roundup based on CLV\n",
    "        prev_feature_adoption = 1  # Start with at least 1 feature adopted\n",
    "        prev_active_user, prev_session_duration, prev_usage_frequency = None, None, None\n",
    "        \n",
    "        contract_usage_data = []\n",
    "\n",
    "        for month in range(1, 13):\n",
    "            FOM = row[\"contract_start_date\"].replace(day=1) + pd.DateOffset(months=month - 1)  # First of the month\n",
    "            MOC = month  # Month of contract\n",
    "            POC = MOC / 12  # Percentage of contract duration\n",
    "\n",
    "            active_user = np.random.randint(1, total_user)  # Active users (less than total users)\n",
    "            session_duration = np.random.randint(60, 60 * 8)  # Session duration (60 sec to 8 hours)\n",
    "            \n",
    "            # Incremental feature adoption: stays the same or increases\n",
    "            feature_adoption = np.random.randint(prev_feature_adoption, 13)  \n",
    "            prev_feature_adoption = feature_adoption  # Update for next month\n",
    "\n",
    "            usage_frequency = np.random.randint(1, 13)  # Usage frequency (1 to 12 sessions per month)\n",
    "            usage_recency = FOM + timedelta(days=np.random.randint(0, 28))  # Random date within the month\n",
    "            usage_recency_d = (usage_recency - FOM).days  # Calculate recency difference in days\n",
    "\n",
    "            # Calculate month-over-month changes\n",
    "            mom_active_user = active_user - prev_active_user if prev_active_user is not None else 0\n",
    "            mom_session_duration = session_duration - prev_session_duration if prev_session_duration is not None else 0\n",
    "            mom_feature_adoption = feature_adoption - prev_feature_adoption if prev_feature_adoption is not None else 0\n",
    "            mom_usage_frequency = usage_frequency - prev_usage_frequency if prev_usage_frequency is not None else 0\n",
    "            \n",
    "            # Update previous values\n",
    "            prev_active_user, prev_session_duration, prev_feature_adoption, prev_usage_frequency = (\n",
    "                active_user, session_duration, feature_adoption, usage_frequency\n",
    "            )\n",
    "\n",
    "            contract_usage_data.append([\n",
    "                row[\"account_id\"], row[\"contract_id\"], FOM, MOC, POC, total_user,\n",
    "                active_user, session_duration, feature_adoption,\n",
    "                usage_frequency, usage_recency, usage_recency_d,\n",
    "                mom_active_user, mom_session_duration, mom_feature_adoption, mom_usage_frequency,\n",
    "                row[\"contract_end_date\"], row[\"contract_status\"]\n",
    "            ])\n",
    "\n",
    "        # Convert to dataframe\n",
    "        df_contract = pd.DataFrame(contr2\n",
    "                                   act_usage_data, columns=[\n",
    "            \"account_id\", \"contract_id\", \"FOM\", \"MOC\", \"POC\", \"total_user\",\n",
    "            \"active_user\", \"session_duration\", \"feature_adoption\",\n",
    "            \"usage_frequency\", \"usage_recency\", \"usage_recency_d\",\n",
    "            \"mom_active_user\", \"mom_session_duration\", \"mom_feature_adoption\", \"mom_usage_frequency\",\n",
    "            \"contract_end_date\", \"contract_status\"\n",
    "        ])\n",
    "\n",
    "        expanded_rows.extend(df_contract.values.tolist())\n",
    "    \n",
    "    # Create the final dataframe\n",
    "    columns = df_contract.columns.tolist()\n",
    "    df_expanded = pd.DataFrame(expanded_rows, columns=columns)\n",
    "    \n",
    "    return df_expanded\n",
    "\n",
    " \n",
    "# Example usage\n",
    "file_path =  \"data/0_sim_contract.xlsx\"\n",
    "df_contracts = load_contract_data(file_path)\n",
    "final_features_df = generate_usage_data(df_contracts)\n",
    "final_features_df['pre_active_users'] = final_features_df['active_user'] / final_features_df['total_user']\n",
    "final_features_df['FOM'] = pd.to_datetime(final_features_df['FOM'], errors='coerce')\n",
    "final_features_df['contract_year'] = final_features_df['FOM'].dt.year"
   ]
  },
  {
   "cell_type": "code",
   "execution_count": 386,
   "id": "a30818e4-baee-4805-9e8e-6083419c3573",
   "metadata": {},
   "outputs": [],
   "source": [
    "final_features_df.to_csv(\"data/0_sim_usage_monthly_features.csv\", index=False)"
   ]
  },
  {
   "cell_type": "code",
   "execution_count": 332,
   "id": "fd8eeeef-0ac0-48fc-a834-71ec885dbf0c",
   "metadata": {},
   "outputs": [],
   "source": [
    "final_features_df = pd.read_csv(\"data/0_sim_usage_monthly_features.csv\")"
   ]
  },
  {
   "cell_type": "code",
   "execution_count": 384,
   "id": "94337a8d-c5c1-4e2e-a7a5-3497b473455a",
   "metadata": {},
   "outputs": [
    {
     "data": {
      "text/plain": [
       "(17436, 20)"
      ]
     },
     "execution_count": 384,
     "metadata": {},
     "output_type": "execute_result"
    }
   ],
   "source": [
    "final_features_df.shape"
   ]
  },
  {
   "cell_type": "code",
   "execution_count": 358,
   "id": "5dcc27d7-68bb-4b76-bb5d-89b2d50569ac",
   "metadata": {},
   "outputs": [
    {
     "data": {
      "text/plain": [
       "Index(['account_id', 'contract_id', 'FOM', 'MOC', 'POC', 'total_user',\n",
       "       'active_user', 'session_duration', 'feature_adoption',\n",
       "       'usage_frequency', 'usage_recency', 'usage_recency_d',\n",
       "       'mom_active_user', 'mom_session_duration', 'mom_feature_adoption',\n",
       "       'mom_usage_frequency', 'contract_end_date', 'contract_status',\n",
       "       'pre_active_users', 'contract_year'],\n",
       "      dtype='object')"
      ]
     },
     "execution_count": 358,
     "metadata": {},
     "output_type": "execute_result"
    }
   ],
   "source": [
    "final_features_df.columns"
   ]
  },
  {
   "cell_type": "code",
   "execution_count": 234,
   "id": "87e7868e-7b3e-45fe-b4c0-c5771f39f375",
   "metadata": {},
   "outputs": [],
   "source": [
    "######################## calculate features"
   ]
  },
  {
   "cell_type": "code",
   "execution_count": 360,
   "id": "46f87a79-7a65-4606-ab61-c320c5a1bc4b",
   "metadata": {},
   "outputs": [],
   "source": [
    "data=final_features_df.copy()"
   ]
  },
  {
   "cell_type": "code",
   "execution_count": 390,
   "id": "6cd7cbd8-da77-416c-ad15-b9c0dfcdb1cd",
   "metadata": {},
   "outputs": [],
   "source": [
    "features=['active_user', 'session_duration', 'feature_adoption', 'usage_frequency', 'usage_recency_d', 'pre_active_users']\n",
    "# Filter data for ischr == True\n",
    "data_chr = data[data['contract_status'] == 'churned']\n",
    "stats_chr = data_chr.groupby(['contract_year'])[features].agg(['min', 'mean', 'median', 'max', 'std']).reset_index()\n",
    "\n",
    "# Filter data for has_next_contract == True\n",
    "data_renew = data[data['contract_status'] == 'upsell']\n",
    "stats_renew = data_renew.groupby(['contract_year'])[features].agg(['min', 'mean', 'median', 'max', 'std']).reset_index()\n",
    "\n",
    "# Initialize an empty dictionary to store results\n",
    "stats_dict = {}\n",
    "\n",
    "# Loop through both stats for 'ischr' and 'has_next_contract' and add to the dictionary\n",
    "for stat_df, key in zip([stats_chr, stats_renew], ['ischr', 'isup']):\n",
    "    # Loop through features and stats\n",
    "    for feature in features:\n",
    "        for stat in ['min', 'mean', 'median', 'max', 'std']:\n",
    "            # Create a key combining feature, stat, contract_year, and 'ischr' or 'has_next_contract'\n",
    "            for contract_year in stat_df['contract_year']:\n",
    "                # Add each result to the dictionary\n",
    "                stats_dict[(feature, stat, contract_year, key)] = stat_df.loc[stat_df['contract_year'] == contract_year, (feature, stat)].values[0]"
   ]
  },
  {
   "cell_type": "code",
   "execution_count": 392,
   "id": "4fcca175-4664-47f3-bbfe-bdd0b43d7b16",
   "metadata": {},
   "outputs": [],
   "source": [
    "#stats_dict\n",
    "df = pd.DataFrame(\n",
    "    [(feature, stat, year, category, value) for (feature, stat, year, category), value in stats_dict.items()],\n",
    "    columns=['Feature', 'Statistic', 'Year', 'Category', 'Value']\n",
    ")\n",
    "df.to_csv(\"data/0_sim_usage_yearly_fuzzy.csv\", index=False)"
   ]
  },
  {
   "cell_type": "code",
   "execution_count": 394,
   "id": "1f000f46-c268-473d-b2e4-7db8f460e577",
   "metadata": {},
   "outputs": [],
   "source": [
    "# Iterate through each feature in ff\n",
    "for f in features:\n",
    "    # Iterate through each row in data\n",
    "    for idx, row in data.iterrows():\n",
    "        year = 0\n",
    "        label = ''\n",
    "        \n",
    "        # Determine the contract year, later change this\n",
    "               \n",
    "        if row['contract_year'] == data['contract_year'].min():\n",
    "            year = row['contract_year']\n",
    "        else:\n",
    "            year = row['contract_year'] - 1\n",
    "\n",
    "        # Get the median values from stats_dict for 'ischr' and 'has_next_contract'\n",
    "        median_ischr = stats_dict.get((f, 'median', year, 'ischr'), None)\n",
    "        median_renew = stats_dict.get((f, 'median', year, 'isup'), None)\n",
    "        # Check if the median values exist, otherwise assign 'normal'\n",
    "        if median_ischr is not None and row[f] < median_ischr:\n",
    "            label = 'risky'\n",
    "        elif median_renew is not None and row[f] > median_renew:\n",
    "            label = 'healthy'\n",
    "        elif row[f] >= median_ischr and row[f]<= median_renew:\n",
    "            label = 'normal'\n",
    "        else:\n",
    "            label = 'noun'\n",
    "\n",
    "        # Assign the label to the row (new column with label for that feature)\n",
    "        data.at[idx, f + '_label'] = label\n",
    "        data.at[idx, f + '_median_ischr'] = median_ischr\n",
    "        data.at[idx, f + '_median_isup'] = median_renew"
   ]
  },
  {
   "cell_type": "code",
   "execution_count": 395,
   "id": "8ec53b07-0874-4e79-8dfc-c2b1c8d51219",
   "metadata": {},
   "outputs": [
    {
     "data": {
      "text/plain": [
       "(17436, 44)"
      ]
     },
     "execution_count": 395,
     "metadata": {},
     "output_type": "execute_result"
    }
   ],
   "source": [
    "data.shape"
   ]
  },
  {
   "cell_type": "code",
   "execution_count": 396,
   "id": "a58116f5-aec4-439b-918b-90599400a970",
   "metadata": {
    "scrolled": true
   },
   "outputs": [],
   "source": [
    "data.to_csv(\"data/0_sim_usage_monthly_features_agg.csv\", index=False)"
   ]
  },
  {
   "cell_type": "code",
   "execution_count": 400,
   "id": "c1c70162-dd8b-46ca-aadb-3e845f93988c",
   "metadata": {},
   "outputs": [
    {
     "data": {
      "text/plain": [
       "Index(['account_id', 'contract_id', 'FOM', 'MOC', 'POC', 'total_user',\n",
       "       'active_user', 'session_duration', 'feature_adoption',\n",
       "       'usage_frequency', 'usage_recency', 'usage_recency_d',\n",
       "       'mom_active_user', 'mom_session_duration', 'mom_feature_adoption',\n",
       "       'mom_usage_frequency', 'contract_end_date', 'contract_status',\n",
       "       'pre_active_users', 'contract_year', 'active_user_label',\n",
       "       'active_user_median_ischr', 'active_user_median_renew',\n",
       "       'session_duration_label', 'session_duration_median_ischr',\n",
       "       'session_duration_median_renew', 'feature_adoption_label',\n",
       "       'feature_adoption_median_ischr', 'feature_adoption_median_renew',\n",
       "       'usage_frequency_label', 'usage_frequency_median_ischr',\n",
       "       'usage_frequency_median_renew', 'usage_recency_d_label',\n",
       "       'usage_recency_d_median_ischr', 'usage_recency_d_median_renew',\n",
       "       'pre_active_users_label', 'pre_active_users_median_ischr',\n",
       "       'pre_active_users_median_renew', 'active_user_median_isup',\n",
       "       'session_duration_median_isup', 'feature_adoption_median_isup',\n",
       "       'usage_frequency_median_isup', 'usage_recency_d_median_isup',\n",
       "       'pre_active_users_median_isup'],\n",
       "      dtype='object')"
      ]
     },
     "execution_count": 400,
     "metadata": {},
     "output_type": "execute_result"
    }
   ],
   "source": [
    "data.columns"
   ]
  },
  {
   "cell_type": "code",
   "execution_count": 428,
   "id": "4b5cae4c-0258-4d57-b049-2481f0a69259",
   "metadata": {},
   "outputs": [],
   "source": [
    "a=[]\n",
    "for i in  data.columns.tolist():\n",
    "    if ('label' in i ):\n",
    "        a.append(i)\n",
    "aa=a+['ischr','isup']"
   ]
  },
  {
   "cell_type": "code",
   "execution_count": 408,
   "id": "3357a4f8-8ed3-46d9-b827-4ef529c4ddf3",
   "metadata": {},
   "outputs": [],
   "source": [
    "data['ischr'] = (data['contract_status'] == 'churned').astype(int)"
   ]
  },
  {
   "cell_type": "code",
   "execution_count": 410,
   "id": "c586512b-67d8-42e4-932b-a5b3b16a020d",
   "metadata": {},
   "outputs": [
    {
     "name": "stderr",
     "output_type": "stream",
     "text": [
      "C:\\Users\\samir\\anaconda3\\Lib\\site-packages\\numpy\\lib\\function_base.py:2897: RuntimeWarning: invalid value encountered in divide\n",
      "  c /= stddev[:, None]\n",
      "C:\\Users\\samir\\anaconda3\\Lib\\site-packages\\numpy\\lib\\function_base.py:2898: RuntimeWarning: invalid value encountered in divide\n",
      "  c /= stddev[None, :]\n"
     ]
    }
   ],
   "source": [
    "# Define a mapping function to convert categorical values into -1, 0, 1\n",
    "def map_categories_to_numeric(value):\n",
    "    if value == 'risky':  # Risky category mapped to -1\n",
    "        return -1\n",
    "    elif value == 'healthy':  # Healthy category mapped to 1\n",
    "        return 1\n",
    "    else:  # Neutral or normal categories mapped to 0\n",
    "        return 0\n",
    "\n",
    "# Apply the mapping function to the categorical columns\n",
    "categorical_columns = data.select_dtypes(include=['object']).columns\n",
    "for col in categorical_columns:\n",
    "    data[col] = data[col].apply(map_categories_to_numeric)\n",
    "\n",
    "weights = {}\n",
    "for col in a:\n",
    "    # Calculate the correlation of each feature with the target variable 'ischr'\n",
    "    correlation = data[col].corr(data['ischr'])\n",
    "    weights[col] = correlation\n",
    "\n",
    "# Create a DataFrame to display the feature weights\n",
    "weights_df = pd.DataFrame(list(weights.items()), columns=['Feature', 'Weight'])\n",
    "weights_df\n",
    "\n",
    "wl=[]\n",
    "for i in weights_df['Weight'].tolist():\n",
    "    #wl.append(i/sum(l))\n",
    "    wl.append(1/len(a))\n",
    "data['score']=0\n",
    "for i,j in zip(a,wl):\n",
    "    data['score']=data['score']+data[i]*j\n",
    "\n",
    "data['usage_score_label'] = data['score'].apply(lambda x: 'healthy' if x > 0 else ('normal' if x == 0 else 'risky'))"
   ]
  },
  {
   "cell_type": "code",
   "execution_count": 424,
   "id": "9032afb9-a023-4031-9587-bfa2e2f8eb1b",
   "metadata": {},
   "outputs": [
    {
     "data": {
      "text/plain": [
       "usage_score_label\n",
       "risky      8817\n",
       "healthy    7039\n",
       "normal     1580\n",
       "Name: count, dtype: int64"
      ]
     },
     "execution_count": 424,
     "metadata": {},
     "output_type": "execute_result"
    }
   ],
   "source": [
    "data['usage_score_label'].value_counts()"
   ]
  },
  {
   "cell_type": "code",
   "execution_count": 426,
   "id": "c53abcf5-ee2c-46a3-970c-2a9d1eea7048",
   "metadata": {},
   "outputs": [],
   "source": [
    "data.to_csv('data/1_score_usage.csv', index=False)"
   ]
  },
  {
   "cell_type": "code",
   "execution_count": null,
   "id": "6d201573-7123-43c0-ad51-dea6de902b52",
   "metadata": {},
   "outputs": [],
   "source": [
    "Possible Scenarios\n",
    "Churn Z-score\tUpsell Z-score\tInterpretation\n",
    "High (+)\tHigh (+)\tStrong user, likely to expand\n",
    "High (+)\tLow (-)\tUnlikely to churn, but not an upsell candidate\n",
    "Low (-)\tHigh (+)\tAt risk of churn, but usage pattern suggests upsell potential\n",
    "Low (-)\tLow (-)\tHigh churn risk, unlikely to upsell\n"
   ]
  },
  {
   "cell_type": "code",
   "execution_count": null,
   "id": "e7ba1aa4-8f3e-4dc0-b2f9-c0832fab1570",
   "metadata": {},
   "outputs": [],
   "source": []
  }
 ],
 "metadata": {
  "kernelspec": {
   "display_name": "Python [conda env:base] *",
   "language": "python",
   "name": "conda-base-py"
  },
  "language_info": {
   "codemirror_mode": {
    "name": "ipython",
    "version": 3
   },
   "file_extension": ".py",
   "mimetype": "text/x-python",
   "name": "python",
   "nbconvert_exporter": "python",
   "pygments_lexer": "ipython3",
   "version": "3.12.7"
  }
 },
 "nbformat": 4,
 "nbformat_minor": 5
}
