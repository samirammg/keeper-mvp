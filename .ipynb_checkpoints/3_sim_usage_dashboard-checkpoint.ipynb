{
 "cells": [
  {
   "cell_type": "code",
   "execution_count": null,
   "id": "059a6810-de2f-4060-af91-1dbffd74c78c",
   "metadata": {},
   "outputs": [],
   "source": [
    "#################### usage data simulation"
   ]
  },
  {
   "cell_type": "code",
   "execution_count": 2,
   "id": "0aab0241-e9ad-4f74-b5b5-589b6f05a465",
   "metadata": {},
   "outputs": [
    {
     "data": {
      "text/plain": [
       "((17436, 20), (17436, 38), (330, 5), (17436, 41))"
      ]
     },
     "execution_count": 2,
     "metadata": {},
     "output_type": "execute_result"
    }
   ],
   "source": [
    "import pandas as pd\n",
    "from datetime import datetime, timedelta\n",
    "from dateutil.relativedelta import relativedelta\n",
    "\n",
    "\n",
    "### all data generated in this section:\n",
    "df_usage_m = pd.read_csv(\"data/0_sim_usage_monthly_features.csv\")\n",
    "df_usage_m_agg = pd.read_csv(\"data/0_sim_usage_monthly_features_agg.csv\")\n",
    "df_usage_stats = pd.read_csv(\"data/0_sim_usage_yearly_fuzzy.csv\")\n",
    "df_usage_score = pd.read_csv(\"data/1_score_usage.csv\" )\n",
    "\n",
    "df_usage_m.shape,df_usage_m_agg.shape, df_usage_stats.shape, df_usage_score.shape"
   ]
  },
  {
   "cell_type": "code",
   "execution_count": 10,
   "id": "4f761978-8449-4657-9a9c-8de2e2b27502",
   "metadata": {},
   "outputs": [
    {
     "data": {
      "text/html": [
       "<div>\n",
       "<style scoped>\n",
       "    .dataframe tbody tr th:only-of-type {\n",
       "        vertical-align: middle;\n",
       "    }\n",
       "\n",
       "    .dataframe tbody tr th {\n",
       "        vertical-align: top;\n",
       "    }\n",
       "\n",
       "    .dataframe thead th {\n",
       "        text-align: right;\n",
       "    }\n",
       "</style>\n",
       "<table border=\"1\" class=\"dataframe\">\n",
       "  <thead>\n",
       "    <tr style=\"text-align: right;\">\n",
       "      <th></th>\n",
       "      <th>Column Names</th>\n",
       "    </tr>\n",
       "  </thead>\n",
       "  <tbody>\n",
       "    <tr>\n",
       "      <th>0</th>\n",
       "      <td>account_id</td>\n",
       "    </tr>\n",
       "    <tr>\n",
       "      <th>1</th>\n",
       "      <td>contract_id</td>\n",
       "    </tr>\n",
       "    <tr>\n",
       "      <th>2</th>\n",
       "      <td>FOM</td>\n",
       "    </tr>\n",
       "    <tr>\n",
       "      <th>3</th>\n",
       "      <td>MOC</td>\n",
       "    </tr>\n",
       "    <tr>\n",
       "      <th>4</th>\n",
       "      <td>POC</td>\n",
       "    </tr>\n",
       "    <tr>\n",
       "      <th>5</th>\n",
       "      <td>total_user</td>\n",
       "    </tr>\n",
       "    <tr>\n",
       "      <th>6</th>\n",
       "      <td>active_user</td>\n",
       "    </tr>\n",
       "    <tr>\n",
       "      <th>7</th>\n",
       "      <td>session_duration</td>\n",
       "    </tr>\n",
       "    <tr>\n",
       "      <th>8</th>\n",
       "      <td>feature_adoption</td>\n",
       "    </tr>\n",
       "    <tr>\n",
       "      <th>9</th>\n",
       "      <td>usage_frequency</td>\n",
       "    </tr>\n",
       "    <tr>\n",
       "      <th>10</th>\n",
       "      <td>usage_recency</td>\n",
       "    </tr>\n",
       "    <tr>\n",
       "      <th>11</th>\n",
       "      <td>usage_recency_d</td>\n",
       "    </tr>\n",
       "    <tr>\n",
       "      <th>12</th>\n",
       "      <td>mom_active_user</td>\n",
       "    </tr>\n",
       "    <tr>\n",
       "      <th>13</th>\n",
       "      <td>mom_session_duration</td>\n",
       "    </tr>\n",
       "    <tr>\n",
       "      <th>14</th>\n",
       "      <td>mom_feature_adoption</td>\n",
       "    </tr>\n",
       "    <tr>\n",
       "      <th>15</th>\n",
       "      <td>mom_usage_frequency</td>\n",
       "    </tr>\n",
       "    <tr>\n",
       "      <th>16</th>\n",
       "      <td>contract_end_date</td>\n",
       "    </tr>\n",
       "    <tr>\n",
       "      <th>17</th>\n",
       "      <td>contract_status</td>\n",
       "    </tr>\n",
       "    <tr>\n",
       "      <th>18</th>\n",
       "      <td>pre_active_users</td>\n",
       "    </tr>\n",
       "    <tr>\n",
       "      <th>19</th>\n",
       "      <td>contract_year</td>\n",
       "    </tr>\n",
       "    <tr>\n",
       "      <th>20</th>\n",
       "      <td>active_user_label</td>\n",
       "    </tr>\n",
       "    <tr>\n",
       "      <th>21</th>\n",
       "      <td>active_user_median_ischr</td>\n",
       "    </tr>\n",
       "    <tr>\n",
       "      <th>22</th>\n",
       "      <td>active_user_median_isup</td>\n",
       "    </tr>\n",
       "    <tr>\n",
       "      <th>23</th>\n",
       "      <td>session_duration_label</td>\n",
       "    </tr>\n",
       "    <tr>\n",
       "      <th>24</th>\n",
       "      <td>session_duration_median_ischr</td>\n",
       "    </tr>\n",
       "    <tr>\n",
       "      <th>25</th>\n",
       "      <td>session_duration_median_isup</td>\n",
       "    </tr>\n",
       "    <tr>\n",
       "      <th>26</th>\n",
       "      <td>feature_adoption_label</td>\n",
       "    </tr>\n",
       "    <tr>\n",
       "      <th>27</th>\n",
       "      <td>feature_adoption_median_ischr</td>\n",
       "    </tr>\n",
       "    <tr>\n",
       "      <th>28</th>\n",
       "      <td>feature_adoption_median_isup</td>\n",
       "    </tr>\n",
       "    <tr>\n",
       "      <th>29</th>\n",
       "      <td>usage_frequency_label</td>\n",
       "    </tr>\n",
       "    <tr>\n",
       "      <th>30</th>\n",
       "      <td>usage_frequency_median_ischr</td>\n",
       "    </tr>\n",
       "    <tr>\n",
       "      <th>31</th>\n",
       "      <td>usage_frequency_median_isup</td>\n",
       "    </tr>\n",
       "    <tr>\n",
       "      <th>32</th>\n",
       "      <td>usage_recency_d_label</td>\n",
       "    </tr>\n",
       "    <tr>\n",
       "      <th>33</th>\n",
       "      <td>usage_recency_d_median_ischr</td>\n",
       "    </tr>\n",
       "    <tr>\n",
       "      <th>34</th>\n",
       "      <td>usage_recency_d_median_isup</td>\n",
       "    </tr>\n",
       "    <tr>\n",
       "      <th>35</th>\n",
       "      <td>pre_active_users_label</td>\n",
       "    </tr>\n",
       "    <tr>\n",
       "      <th>36</th>\n",
       "      <td>pre_active_users_median_ischr</td>\n",
       "    </tr>\n",
       "    <tr>\n",
       "      <th>37</th>\n",
       "      <td>pre_active_users_median_isup</td>\n",
       "    </tr>\n",
       "    <tr>\n",
       "      <th>38</th>\n",
       "      <td>ischr</td>\n",
       "    </tr>\n",
       "    <tr>\n",
       "      <th>39</th>\n",
       "      <td>usage_score</td>\n",
       "    </tr>\n",
       "    <tr>\n",
       "      <th>40</th>\n",
       "      <td>usage_score_label</td>\n",
       "    </tr>\n",
       "  </tbody>\n",
       "</table>\n",
       "</div>"
      ],
      "text/plain": [
       "                     Column Names\n",
       "0                      account_id\n",
       "1                     contract_id\n",
       "2                             FOM\n",
       "3                             MOC\n",
       "4                             POC\n",
       "5                      total_user\n",
       "6                     active_user\n",
       "7                session_duration\n",
       "8                feature_adoption\n",
       "9                 usage_frequency\n",
       "10                  usage_recency\n",
       "11                usage_recency_d\n",
       "12                mom_active_user\n",
       "13           mom_session_duration\n",
       "14           mom_feature_adoption\n",
       "15            mom_usage_frequency\n",
       "16              contract_end_date\n",
       "17                contract_status\n",
       "18               pre_active_users\n",
       "19                  contract_year\n",
       "20              active_user_label\n",
       "21       active_user_median_ischr\n",
       "22        active_user_median_isup\n",
       "23         session_duration_label\n",
       "24  session_duration_median_ischr\n",
       "25   session_duration_median_isup\n",
       "26         feature_adoption_label\n",
       "27  feature_adoption_median_ischr\n",
       "28   feature_adoption_median_isup\n",
       "29          usage_frequency_label\n",
       "30   usage_frequency_median_ischr\n",
       "31    usage_frequency_median_isup\n",
       "32          usage_recency_d_label\n",
       "33   usage_recency_d_median_ischr\n",
       "34    usage_recency_d_median_isup\n",
       "35         pre_active_users_label\n",
       "36  pre_active_users_median_ischr\n",
       "37   pre_active_users_median_isup\n",
       "38                          ischr\n",
       "39                    usage_score\n",
       "40              usage_score_label"
      ]
     },
     "execution_count": 10,
     "metadata": {},
     "output_type": "execute_result"
    }
   ],
   "source": [
    "# Extracting the column names\n",
    "columns = df_usage_score.columns.tolist()\n",
    "\n",
    "# Create a DataFrame for the columns\n",
    "columns_df = pd.DataFrame(columns, columns=['Column Names'])\n",
    "columns_df"
   ]
  },
  {
   "cell_type": "code",
   "execution_count": 555,
   "id": "717415cc-efc7-41ce-9c23-a0207d193e76",
   "metadata": {},
   "outputs": [
    {
     "data": {
      "text/plain": [
       "'C:\\\\Users\\\\samir\\\\OneDrive\\\\Desktop\\\\Keeper\\\\v0'"
      ]
     },
     "execution_count": 555,
     "metadata": {},
     "output_type": "execute_result"
    }
   ],
   "source": [
    "# Get the current working directory\n",
    "%pwd"
   ]
  },
  {
   "cell_type": "code",
   "execution_count": 557,
   "id": "3058d1ee-a18d-44dc-8219-48d620810de6",
   "metadata": {},
   "outputs": [],
   "source": [
    "import pandas as pd\n",
    "import numpy as np\n",
    "from datetime import timedelta\n",
    "from scipy.stats import zscore\n",
    "\n",
    "# Load the Excel file\n",
    "def load_contract_data(df0):\n",
    "\n",
    "    df0[\"contract_start_date\"] = pd.to_datetime(df0[\"contract_start_date\"])\n",
    "    df0[\"contract_end_date\"] = pd.to_datetime(df0[\"contract_end_date\"])\n",
    "    \n",
    "    # Define contract_status based on ischr, isup, and isrenew\n",
    "    conditions = [\n",
    "        (df0[\"ischr\"] == 1),\n",
    "        (df0[\"isup\"] == 1)\n",
    "    ]\n",
    "    choices = [\"churned\", \"upsell\"]\n",
    "    df0[\"contract_status\"] = np.select(conditions, choices, default=\"unknown\")\n",
    "    \n",
    "    return df0\n",
    "\n",
    "df0 = pd.read_excel(\"data/0_sim_contract.xlsx\")\n",
    "df_contracts = load_contract_data(df0)"
   ]
  },
  {
   "cell_type": "code",
   "execution_count": 558,
   "id": "327fe607-0827-491a-95e5-e75a9e124478",
   "metadata": {},
   "outputs": [
    {
     "data": {
      "text/plain": [
       "Index(['account_id', 'contract_id', 'contract_start_date', 'contract_end_date',\n",
       "       'number_contract', 'is_chr', 'industry', 'business_size',\n",
       "       'annual_revenue', 'has_product_1', 'has_product_2', 'has_product_3',\n",
       "       'has_product_4', 'has_product_5', 'contract_acv', 'per_product',\n",
       "       'has_next_contract', 'pre_contract_value_change',\n",
       "       'pre_contract_value_change_pct', 'next_contract_value_change',\n",
       "       'next_contract_value_change_category', 'first_contract_start_date',\n",
       "       'age_at_contract', 'contract_duration', 'num_pre_contract',\n",
       "       'first_contract_value', 'first_contract_value_change',\n",
       "       'first_contract_value_change_pct', 'group', 'group_des', 'ischr',\n",
       "       'isnew', 'isup', 'isdown', 'issame', 'acv_label', 'clv_contract',\n",
       "       'clv_contract_with_churn', 'customer_lifespan_contract',\n",
       "       'contract_status'],\n",
       "      dtype='object')"
      ]
     },
     "execution_count": 558,
     "metadata": {},
     "output_type": "execute_result"
    }
   ],
   "source": [
    "df_contracts.columns"
   ]
  },
  {
   "cell_type": "code",
   "execution_count": 561,
   "id": "1b031a81-099f-45fc-b0fa-6eb7decb4a94",
   "metadata": {},
   "outputs": [],
   "source": [
    "\n",
    "# Function to generate product usage data\n",
    "def generate_usage_data(df_contracts):\n",
    "    expanded_rows = []\n",
    "    \n",
    "    for _, row in df_contracts.iterrows():\n",
    "        total_user = np.ceil(row[\"clv_contract\"] / 4000)  # Roundup based on CLV\n",
    "        prev_feature_adoption = 1  # Start with at least 1 feature adopted\n",
    "        prev_active_user, prev_session_duration, prev_usage_frequency = None, None, None\n",
    "        \n",
    "        contract_usage_data = []\n",
    "\n",
    "        for month in range(1, 13):\n",
    "            FOM = row[\"contract_start_date\"].replace(day=1) + pd.DateOffset(months=month - 1)  # First of the month\n",
    "            MOC = month  # Month of contract\n",
    "            POC = MOC / 12  # Percentage of contract duration\n",
    "\n",
    "            active_user = np.random.randint(1, total_user)  # Active users (less than total users)\n",
    "            session_duration = np.random.randint(60, 60 * 8)  # Session duration (60 sec to 8 hours)\n",
    "            \n",
    "            # Incremental feature adoption: stays the same or increases\n",
    "            feature_adoption = np.random.randint(prev_feature_adoption, 13)  \n",
    "            prev_feature_adoption = feature_adoption  # Update for next month\n",
    "\n",
    "            usage_frequency = np.random.randint(1, 13)  # Usage frequency (1 to 12 sessions per month)\n",
    "            usage_recency = FOM + timedelta(days=np.random.randint(0, 28))  # Random date within the month\n",
    "            usage_recency_d = (usage_recency - FOM).days  # Calculate recency difference in days\n",
    "\n",
    "            # Calculate month-over-month changes\n",
    "            mom_active_user = active_user - prev_active_user if prev_active_user is not None else 0\n",
    "            mom_session_duration = session_duration - prev_session_duration if prev_session_duration is not None else 0\n",
    "            mom_feature_adoption = feature_adoption - prev_feature_adoption if prev_feature_adoption is not None else 0\n",
    "            mom_usage_frequency = usage_frequency - prev_usage_frequency if prev_usage_frequency is not None else 0\n",
    "            \n",
    "            # Update previous values\n",
    "            prev_active_user, prev_session_duration, prev_feature_adoption, prev_usage_frequency = (\n",
    "                active_user, session_duration, feature_adoption, usage_frequency\n",
    "            )\n",
    "\n",
    "            contract_usage_data.append([\n",
    "                row[\"account_id\"], row[\"contract_id\"], FOM, MOC, POC, total_user,\n",
    "                active_user, session_duration, feature_adoption,\n",
    "                usage_frequency, usage_recency, usage_recency_d,\n",
    "                mom_active_user, mom_session_duration, mom_feature_adoption, mom_usage_frequency,\n",
    "                row[\"contract_end_date\"], row[\"contract_status\"]\n",
    "            ])\n",
    "\n",
    "        # Convert to dataframe\n",
    "        df_contract = pd.DataFrame(contract_usage_data, columns=[\n",
    "            \"account_id\", \"contract_id\", \"FOM\", \"MOC\", \"POC\", \"total_user\",\n",
    "            \"active_user\", \"session_duration\", \"feature_adoption\",\n",
    "            \"usage_frequency\", \"usage_recency\", \"usage_recency_d\",\n",
    "            \"mom_active_user\", \"mom_session_duration\", \"mom_feature_adoption\", \"mom_usage_frequency\",\n",
    "            \"contract_end_date\", \"contract_status\"\n",
    "        ])\n",
    "\n",
    "        expanded_rows.extend(df_contract.values.tolist())\n",
    "    \n",
    "    # Create the final dataframe\n",
    "    columns = df_contract.columns.tolist()\n",
    "    df_expanded = pd.DataFrame(expanded_rows, columns=columns)\n",
    "    \n",
    "    return df_expanded\n",
    "\n",
    " \n",
    "# Example usage\n",
    "\n",
    "final_features_df = generate_usage_data(df_contracts)\n",
    "final_features_df['pre_active_users'] = final_features_df['active_user'] / final_features_df['total_user']\n",
    "final_features_df['FOM'] = pd.to_datetime(final_features_df['FOM'], errors='coerce')\n",
    "final_features_df['contract_year'] = final_features_df['FOM'].dt.year"
   ]
  },
  {
   "cell_type": "code",
   "execution_count": 562,
   "id": "a30818e4-baee-4805-9e8e-6083419c3573",
   "metadata": {},
   "outputs": [],
   "source": [
    "final_features_df.to_csv(\"data/0_sim_usage_monthly_features.csv\", index=False)"
   ]
  },
  {
   "cell_type": "code",
   "execution_count": 563,
   "id": "fd8eeeef-0ac0-48fc-a834-71ec885dbf0c",
   "metadata": {},
   "outputs": [],
   "source": [
    "final_features_df = pd.read_csv(\"data/0_sim_usage_monthly_features.csv\")"
   ]
  },
  {
   "cell_type": "code",
   "execution_count": 564,
   "id": "056b8a02-a543-4c79-9b6a-648580d07a07",
   "metadata": {},
   "outputs": [
    {
     "data": {
      "text/plain": [
       "account_id               object\n",
       "contract_id              object\n",
       "FOM                      object\n",
       "MOC                       int64\n",
       "POC                     float64\n",
       "total_user              float64\n",
       "active_user               int64\n",
       "session_duration          int64\n",
       "feature_adoption          int64\n",
       "usage_frequency           int64\n",
       "usage_recency            object\n",
       "usage_recency_d           int64\n",
       "mom_active_user           int64\n",
       "mom_session_duration      int64\n",
       "mom_feature_adoption      int64\n",
       "mom_usage_frequency       int64\n",
       "contract_end_date        object\n",
       "contract_status          object\n",
       "pre_active_users        float64\n",
       "contract_year             int64\n",
       "dtype: object"
      ]
     },
     "execution_count": 564,
     "metadata": {},
     "output_type": "execute_result"
    }
   ],
   "source": [
    "final_features_df.dtypes"
   ]
  },
  {
   "cell_type": "code",
   "execution_count": 569,
   "id": "94337a8d-c5c1-4e2e-a7a5-3497b473455a",
   "metadata": {},
   "outputs": [
    {
     "data": {
      "text/plain": [
       "(17436, 20)"
      ]
     },
     "execution_count": 569,
     "metadata": {},
     "output_type": "execute_result"
    }
   ],
   "source": [
    "final_features_df.shape"
   ]
  },
  {
   "cell_type": "code",
   "execution_count": 571,
   "id": "5dcc27d7-68bb-4b76-bb5d-89b2d50569ac",
   "metadata": {},
   "outputs": [
    {
     "data": {
      "text/plain": [
       "Index(['account_id', 'contract_id', 'FOM', 'MOC', 'POC', 'total_user',\n",
       "       'active_user', 'session_duration', 'feature_adoption',\n",
       "       'usage_frequency', 'usage_recency', 'usage_recency_d',\n",
       "       'mom_active_user', 'mom_session_duration', 'mom_feature_adoption',\n",
       "       'mom_usage_frequency', 'contract_end_date', 'contract_status',\n",
       "       'pre_active_users', 'contract_year'],\n",
       "      dtype='object')"
      ]
     },
     "execution_count": 571,
     "metadata": {},
     "output_type": "execute_result"
    }
   ],
   "source": [
    "final_features_df.columns"
   ]
  },
  {
   "cell_type": "code",
   "execution_count": 573,
   "id": "87e7868e-7b3e-45fe-b4c0-c5771f39f375",
   "metadata": {},
   "outputs": [],
   "source": [
    "######################## calculate features"
   ]
  },
  {
   "cell_type": "code",
   "execution_count": 575,
   "id": "46f87a79-7a65-4606-ab61-c320c5a1bc4b",
   "metadata": {},
   "outputs": [],
   "source": [
    "data=final_features_df.copy()"
   ]
  },
  {
   "cell_type": "code",
   "execution_count": 577,
   "id": "8e1c8972-3931-441d-b2aa-551202179e48",
   "metadata": {},
   "outputs": [],
   "source": [
    "data=data.fillna(0)"
   ]
  },
  {
   "cell_type": "code",
   "execution_count": 579,
   "id": "6cd7cbd8-da77-416c-ad15-b9c0dfcdb1cd",
   "metadata": {},
   "outputs": [],
   "source": [
    "features=['active_user', 'session_duration', 'feature_adoption', 'usage_frequency', 'usage_recency_d', 'pre_active_users']\n",
    "# Filter data for ischr == True\n",
    "data_chr = data[data['contract_status'] == 'churned']\n",
    "stats_chr = data_chr.groupby(['contract_year'])[features].agg(['min', 'mean', 'median', 'max', 'std']).reset_index()\n",
    "\n",
    "# Filter data for has_next_contract == True\n",
    "data_renew = data[data['contract_status'] == 'upsell']\n",
    "stats_renew = data_renew.groupby(['contract_year'])[features].agg(['min', 'mean', 'median', 'max', 'std']).reset_index()\n",
    "\n",
    "# Initialize an empty dictionary to store results\n",
    "stats_dict = {}\n",
    "\n",
    "# Loop through both stats for 'ischr' and 'has_next_contract' and add to the dictionary\n",
    "for stat_df, key in zip([stats_chr, stats_renew], ['ischr', 'isup']):\n",
    "    # Loop through features and stats\n",
    "    for feature in features:\n",
    "        for stat in ['min', 'mean', 'median', 'max', 'std']:\n",
    "            # Create a key combining feature, stat, contract_year, and 'ischr' or 'has_next_contract'\n",
    "            for contract_year in stat_df['contract_year']:\n",
    "                # Add each result to the dictionary\n",
    "                stats_dict[(feature, stat, contract_year, key)] = stat_df.loc[stat_df['contract_year'] == contract_year, (feature, stat)].values[0]"
   ]
  },
  {
   "cell_type": "code",
   "execution_count": 592,
   "id": "4fcca175-4664-47f3-bbfe-bdd0b43d7b16",
   "metadata": {},
   "outputs": [],
   "source": [
    "#stats_dict\n",
    "df = pd.DataFrame(\n",
    "    [(feature, stat, year, category, value) for (feature, stat, year, category), value in stats_dict.items()],\n",
    "    columns=['Feature', 'Statistic', 'Year', 'Category', 'Value']\n",
    ")\n",
    "df.to_csv(\"data/0_sim_usage_yearly_fuzzy.csv\", index=False)"
   ]
  },
  {
   "cell_type": "code",
   "execution_count": 594,
   "id": "1436c39a-43d8-4614-b880-e5a9b3448bea",
   "metadata": {},
   "outputs": [],
   "source": [
    "# Iterate through each feature in features\n",
    "for f in features:\n",
    "    # Iterate through each row in data\n",
    "    for idx, row in data.iterrows():\n",
    "        year = row['contract_year'] - 1 if row['contract_year'] > data['contract_year'].min() else row['contract_year']\n",
    "        \n",
    "        # Get the median values from stats_dict for 'ischr' and 'isup'\n",
    "        median_ischr = stats_dict.get((f, 'median', year, 'ischr'), None)\n",
    "        median_renew = stats_dict.get((f, 'median', year, 'isup'), None)\n",
    "\n",
    "        # Check if the median values exist, otherwise assign 'normal'\n",
    "        if median_ischr is not None and row[f] < median_ischr:\n",
    "            label = 'risky'\n",
    "        elif median_renew is not None and row[f] > median_renew:\n",
    "            label = 'healthy'\n",
    "        elif median_ischr is not None and median_renew is not None and median_ischr <= row[f] <= median_renew:\n",
    "            label = 'normal'\n",
    "        else:\n",
    "            label = 'noun'\n",
    "\n",
    "        # Assign the label to the row (new column with label for that feature)\n",
    "        data.at[idx, f + '_label'] = label\n",
    "        data.at[idx, f + '_median_ischr'] = median_ischr\n",
    "        data.at[idx, f + '_median_isup'] = median_renew\n"
   ]
  },
  {
   "cell_type": "code",
   "execution_count": null,
   "id": "c86e5d52-1559-4774-a890-2033f24294af",
   "metadata": {},
   "outputs": [],
   "source": []
  },
  {
   "cell_type": "code",
   "execution_count": 596,
   "id": "8ec53b07-0874-4e79-8dfc-c2b1c8d51219",
   "metadata": {},
   "outputs": [
    {
     "data": {
      "text/plain": [
       "(17436, 38)"
      ]
     },
     "execution_count": 596,
     "metadata": {},
     "output_type": "execute_result"
    }
   ],
   "source": [
    "data.shape"
   ]
  },
  {
   "cell_type": "code",
   "execution_count": 597,
   "id": "a58116f5-aec4-439b-918b-90599400a970",
   "metadata": {
    "scrolled": true
   },
   "outputs": [],
   "source": [
    "data.to_csv(\"data/0_sim_usage_monthly_features_agg.csv\", index=False)"
   ]
  },
  {
   "cell_type": "code",
   "execution_count": 598,
   "id": "c1c70162-dd8b-46ca-aadb-3e845f93988c",
   "metadata": {},
   "outputs": [
    {
     "data": {
      "text/plain": [
       "Index(['account_id', 'contract_id', 'FOM', 'MOC', 'POC', 'total_user',\n",
       "       'active_user', 'session_duration', 'feature_adoption',\n",
       "       'usage_frequency', 'usage_recency', 'usage_recency_d',\n",
       "       'mom_active_user', 'mom_session_duration', 'mom_feature_adoption',\n",
       "       'mom_usage_frequency', 'contract_end_date', 'contract_status',\n",
       "       'pre_active_users', 'contract_year', 'active_user_label',\n",
       "       'active_user_median_ischr', 'active_user_median_isup',\n",
       "       'session_duration_label', 'session_duration_median_ischr',\n",
       "       'session_duration_median_isup', 'feature_adoption_label',\n",
       "       'feature_adoption_median_ischr', 'feature_adoption_median_isup',\n",
       "       'usage_frequency_label', 'usage_frequency_median_ischr',\n",
       "       'usage_frequency_median_isup', 'usage_recency_d_label',\n",
       "       'usage_recency_d_median_ischr', 'usage_recency_d_median_isup',\n",
       "       'pre_active_users_label', 'pre_active_users_median_ischr',\n",
       "       'pre_active_users_median_isup'],\n",
       "      dtype='object')"
      ]
     },
     "execution_count": 598,
     "metadata": {},
     "output_type": "execute_result"
    }
   ],
   "source": [
    "data.columns"
   ]
  },
  {
   "cell_type": "code",
   "execution_count": 599,
   "id": "4b5cae4c-0258-4d57-b049-2481f0a69259",
   "metadata": {},
   "outputs": [],
   "source": [
    "a=[]\n",
    "for i in  data.columns.tolist():\n",
    "    if ('label' in i ):\n",
    "        a.append(i)\n",
    "aa=a+['ischr','isup']"
   ]
  },
  {
   "cell_type": "code",
   "execution_count": 600,
   "id": "3357a4f8-8ed3-46d9-b827-4ef529c4ddf3",
   "metadata": {},
   "outputs": [],
   "source": [
    "data['ischr'] = (data['contract_status'] == 'churned').astype(int)"
   ]
  },
  {
   "cell_type": "code",
   "execution_count": 601,
   "id": "c586512b-67d8-42e4-932b-a5b3b16a020d",
   "metadata": {},
   "outputs": [],
   "source": [
    "# Define a mapping function to convert categorical values into -1, 0, 1\n",
    "def map_categories_to_numeric(value):\n",
    "    if value == 'risky':  # Risky category mapped to -1\n",
    "        return -1\n",
    "    elif value == 'healthy':  # Healthy category mapped to 1\n",
    "        return 1\n",
    "    else:  # Neutral or normal categories mapped to 0\n",
    "        return 0\n",
    "\n",
    "# Apply the mapping function to the categorical columns\n",
    "categorical_columns=[]\n",
    "for i in data.columns:\n",
    "    if '_label' in i :\n",
    "        categorical_columns.append(i)\n",
    "        \n",
    "for col in categorical_columns:\n",
    "    data[col] = data[col].apply(map_categories_to_numeric)\n",
    "\n",
    "weights = {}\n",
    "for col in a:\n",
    "    # Calculate the correlation of each feature with the target variable 'ischr'\n",
    "    correlation = data[col].corr(data['ischr'])\n",
    "    weights[col] = correlation\n",
    "\n",
    "# Create a DataFrame to display the feature weights\n",
    "weights_df = pd.DataFrame(list(weights.items()), columns=['Feature', 'Weight'])\n",
    "weights_df\n",
    "\n",
    "wl=[]\n",
    "for i in weights_df['Weight'].tolist():\n",
    "    #wl.append(i/sum(l))\n",
    "    wl.append(1/len(a))\n",
    "data['usage_score']=0\n",
    "for i,j in zip(a,wl):\n",
    "    data['usage_score']=data['usage_score']+data[i]*j\n",
    "\n",
    "data['usage_score_label'] = data['usage_score'].apply(lambda x: 'healthy' if x > 0 else ('normal' if x == 0 else 'risky'))"
   ]
  },
  {
   "cell_type": "code",
   "execution_count": 602,
   "id": "9032afb9-a023-4031-9587-bfa2e2f8eb1b",
   "metadata": {},
   "outputs": [
    {
     "data": {
      "text/plain": [
       "usage_score_label\n",
       "risky      8503\n",
       "healthy    7342\n",
       "normal     1591\n",
       "Name: count, dtype: int64"
      ]
     },
     "execution_count": 602,
     "metadata": {},
     "output_type": "execute_result"
    }
   ],
   "source": [
    "data['usage_score_label'].value_counts()"
   ]
  },
  {
   "cell_type": "code",
   "execution_count": 603,
   "id": "c53abcf5-ee2c-46a3-970c-2a9d1eea7048",
   "metadata": {},
   "outputs": [],
   "source": [
    "data.to_csv('data/1_score_usage.csv', index=False)"
   ]
  },
  {
   "cell_type": "code",
   "execution_count": 604,
   "id": "be86ee6a-1e99-41e6-ae46-bedab103526f",
   "metadata": {},
   "outputs": [
    {
     "data": {
      "text/plain": [
       "Index(['account_id', 'contract_id', 'FOM', 'MOC', 'POC', 'total_user',\n",
       "       'active_user', 'session_duration', 'feature_adoption',\n",
       "       'usage_frequency', 'usage_recency', 'usage_recency_d',\n",
       "       'mom_active_user', 'mom_session_duration', 'mom_feature_adoption',\n",
       "       'mom_usage_frequency', 'contract_end_date', 'contract_status',\n",
       "       'pre_active_users', 'contract_year', 'active_user_label',\n",
       "       'active_user_median_ischr', 'active_user_median_isup',\n",
       "       'session_duration_label', 'session_duration_median_ischr',\n",
       "       'session_duration_median_isup', 'feature_adoption_label',\n",
       "       'feature_adoption_median_ischr', 'feature_adoption_median_isup',\n",
       "       'usage_frequency_label', 'usage_frequency_median_ischr',\n",
       "       'usage_frequency_median_isup', 'usage_recency_d_label',\n",
       "       'usage_recency_d_median_ischr', 'usage_recency_d_median_isup',\n",
       "       'pre_active_users_label', 'pre_active_users_median_ischr',\n",
       "       'pre_active_users_median_isup', 'ischr', 'usage_score',\n",
       "       'usage_score_label'],\n",
       "      dtype='object')"
      ]
     },
     "execution_count": 604,
     "metadata": {},
     "output_type": "execute_result"
    }
   ],
   "source": [
    "data.columns"
   ]
  },
  {
   "cell_type": "code",
   "execution_count": null,
   "id": "6d201573-7123-43c0-ad51-dea6de902b52",
   "metadata": {},
   "outputs": [],
   "source": [
    "Possible Scenarios\n",
    "Churn Z-score\tUpsell Z-score\tInterpretation\n",
    "High (+)\tHigh (+)\tStrong user, likely to expand\n",
    "High (+)\tLow (-)\tUnlikely to churn, but not an upsell candidate\n",
    "Low (-)\tHigh (+)\tAt risk of churn, but usage pattern suggests upsell potential\n",
    "Low (-)\tLow (-)\tHigh churn risk, unlikely to upsell\n"
   ]
  },
  {
   "cell_type": "code",
   "execution_count": null,
   "id": "e7ba1aa4-8f3e-4dc0-b2f9-c0832fab1570",
   "metadata": {},
   "outputs": [],
   "source": []
  }
 ],
 "metadata": {
  "kernelspec": {
   "display_name": "Python [conda env:base] *",
   "language": "python",
   "name": "conda-base-py"
  },
  "language_info": {
   "codemirror_mode": {
    "name": "ipython",
    "version": 3
   },
   "file_extension": ".py",
   "mimetype": "text/x-python",
   "name": "python",
   "nbconvert_exporter": "python",
   "pygments_lexer": "ipython3",
   "version": "3.12.7"
  }
 },
 "nbformat": 4,
 "nbformat_minor": 5
}
