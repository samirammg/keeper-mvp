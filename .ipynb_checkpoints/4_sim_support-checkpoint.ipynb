{
 "cells": [
  {
   "cell_type": "code",
   "execution_count": 328,
   "id": "964f49f2-0d5b-4180-bfa0-499ebadeb412",
   "metadata": {},
   "outputs": [],
   "source": [
    "########################### raw suppoer data simulation"
   ]
  },
  {
   "cell_type": "code",
   "execution_count": 302,
   "id": "dfaa91e7-2ff9-4da0-b7a1-27611e5e97bd",
   "metadata": {},
   "outputs": [],
   "source": [
    "import pandas as pd\n",
    "import numpy as np\n",
    "\n",
    "def generate_support_tickets(contract_df):\n",
    "    # Priority levels\n",
    "    priority_levels = [\"Low\", \"Medium\", \"High\", \"Critical\"]\n",
    "    issue_types = [\"issue_1\", \"issue_2\", \"issue_3\", \"issue_4\"]\n",
    "    statuses = [\"Open\", \"In Progress\", \"Pending\", \"Resolved\", \"Closed\"]\n",
    "    sentiment_levels = [\"Positive\", \"Neutral\", \"Negative\"]\n",
    "    \n",
    "    ticket_data = []\n",
    "    monthly_ticket_data = []\n",
    "    \n",
    "    for _, row in contract_df.iterrows():\n",
    "        account_id = row[\"account_id\"]\n",
    "        contract_id = row[\"contract_id\"]\n",
    "        contract_start = pd.to_datetime(row[\"contract_start_date\"])\n",
    "        contract_end = pd.to_datetime(row[\"contract_end_date\"])\n",
    "        contract_acv = row[\"clv_contract_with_churn\"]  # Using ACV with churn adjustment\n",
    "        churned = row[\"ischr\"]\n",
    "        \n",
    "        # Determine number of tickets based on ACV and churn status\n",
    "        base_tickets = np.random.randint(0, 3)  # Higher ACV -> More tickets\n",
    "        if churned:\n",
    "            base_tickets += np.random.randint(0, 2)  # Churned accounts may have more tickets\n",
    "        \n",
    "        num_tickets = np.random.randint(0, max(1, base_tickets+2))\n",
    "        \n",
    "        for _ in range(num_tickets):\n",
    "            ticket_id = f\"ticket_{np.random.randint(1000, 9999)}\"\n",
    "            ticket_creation_date = contract_start + pd.Timedelta(days=np.random.randint(0, (contract_end - contract_start).days - 30))\n",
    "            max_days_until_close = (contract_end - ticket_creation_date).days\n",
    "            ticket_close_date = ticket_creation_date + pd.Timedelta(days=np.random.randint(1, min(max_days_until_close, 90)))\n",
    "            resolution_time = (ticket_close_date - ticket_creation_date).days\n",
    "            \n",
    "            # Assign priority and response time with error handling\n",
    "            priority = np.random.choice(priority_levels)\n",
    "            min_response_time = {\"Critical\": 1, \"High\": 1, \"Medium\": 1, \"Low\": 1}\n",
    "            max_response_time = {\"Critical\": 2, \"High\": 5, \"Medium\": 10, \"Low\": 20}\n",
    "            \n",
    "            response_time = min(resolution_time - 1, np.random.randint(min_response_time[priority], max_response_time[priority]))\n",
    "            response_time = max(response_time, 1)  # Ensure response time is at least 1\n",
    "            \n",
    "            # Assign sentiment based on priority and resolution time\n",
    "            if priority in [\"Critical\", \"High\"] and resolution_time > 15:\n",
    "                sentiment = \"Negative\"\n",
    "            elif priority in [\"Medium\", \"Low\"] and resolution_time > 30:\n",
    "                sentiment = \"Negative\"\n",
    "            elif resolution_time < 5:\n",
    "                sentiment = \"Positive\"\n",
    "            else:\n",
    "                sentiment = \"Neutral\"\n",
    "            \n",
    "            ticket_data.append({\n",
    "               \"ticket_id\": ticket_id,\n",
    "                \"account_id\": account_id,\n",
    "                \"contract_id\": contract_id,\n",
    "                \"ticket_creation_date\": ticket_creation_date,\n",
    "                \"ticket_close_date\": ticket_close_date,\n",
    "                \"response_time\": response_time,\n",
    "                \"resolution_time\": resolution_time if 'end_of_month' in locals() and ticket_close_date <= end_of_month else None,\n",
    "                \"ticket_subject\": np.random.choice(issue_types),\n",
    "                \"sentiment\": sentiment\n",
    "            })\n",
    "            \n",
    "            # Generate monthly records\n",
    "            current_date = ticket_creation_date.replace(day=1)\n",
    "            while current_date <= contract_end:\n",
    "                if current_date < ticket_creation_date:\n",
    "                    current_date += pd.DateOffset(months=1)\n",
    "                    continue\n",
    "                \n",
    "                status = np.random.choice(statuses, p=[0.2, 0.3, 0.2, 0.2, 0.1])  # Weighted status assignment\n",
    "                fom = current_date\n",
    "                end_of_month = current_date + pd.DateOffset(months=1) - pd.Timedelta(days=1)\n",
    "                \n",
    "                monthly_ticket_data.append({\n",
    "                    \"FOM\": fom,\n",
    "                    \"ticket_id\": ticket_id,\n",
    "                    \"account_id\": account_id,\n",
    "                    \"contract_id\": contract_id,\n",
    "                    \"ticket_creation_date\": ticket_creation_date,\n",
    "                    \"ticket_close_date\": ticket_close_date if ticket_close_date <= end_of_month else None,\n",
    "                    \"response_time\": response_time if ticket_creation_date + pd.Timedelta(days=response_time) <= end_of_month else None,\n",
    "                    \"resolution_time\": resolution_time,\n",
    "                    \"priority\": priority,\n",
    "                    \"ticket_subject\": np.random.choice(issue_types),\n",
    "                    \"status\": status\n",
    "                })\n",
    "                current_date += pd.DateOffset(months=1)\n",
    "    \n",
    "    return pd.DataFrame(ticket_data), pd.DataFrame(monthly_ticket_data)\n",
    "\n",
    "# Example usage:\n",
    "contract_df = pd.read_excel(\"data/sim_contract.xlsx\")\n",
    "support_tickets_df, monthly_tickets_df = generate_support_tickets(contract_df)\n",
    "\n",
    "\n",
    "# Convert ticket creation date to datetime format\n",
    "monthly_tickets_df[\"ticket_creation_date\"] = pd.to_datetime(monthly_tickets_df[\"ticket_creation_date\"])\n",
    "\n",
    "# Sort data to track order of tickets within the same account, contract, and subject\n",
    "monthly_tickets_df = monthly_tickets_df.sort_values(by=[\"account_id\", \"contract_id\", \"ticket_subject\", \"ticket_creation_date\"])\n",
    "\n",
    "# Add a column counting previous unique tickets with the same subject\n",
    "monthly_tickets_df[\"num_previous_tickets_same_subject\"] = monthly_tickets_df.groupby([\"account_id\", \"contract_id\", \"ticket_subject\"]).cumcount()\n"
   ]
  },
  {
   "cell_type": "code",
   "execution_count": 426,
   "id": "e3b5302d-77df-40da-a300-dc6498622417",
   "metadata": {},
   "outputs": [],
   "source": [
    "support_tickets_df.to_csv(\"data/0_sim_support_tickets.csv\", index=False)\n",
    "monthly_tickets_df.to_csv(\"data/0_sim_support_tickets_monthly_features.csv\", index=False)"
   ]
  },
  {
   "cell_type": "code",
   "execution_count": 450,
   "id": "6fd809f5-2092-457c-b5ca-e14d7ccfea6b",
   "metadata": {},
   "outputs": [],
   "source": [
    "monthly_tickets_df = pd.read_csv(\"data/0_sim_support_tickets_monthly_features.csv\")"
   ]
  },
  {
   "cell_type": "code",
   "execution_count": 452,
   "id": "6abfc24c-69b7-4fc8-81d4-fafdaefb96cc",
   "metadata": {},
   "outputs": [
    {
     "data": {
      "text/plain": [
       "((1669, 9), (9809, 12))"
      ]
     },
     "execution_count": 452,
     "metadata": {},
     "output_type": "execute_result"
    }
   ],
   "source": [
    "support_tickets_df.shape, monthly_tickets_df.shape"
   ]
  },
  {
   "cell_type": "code",
   "execution_count": 454,
   "id": "2f63de26-d595-404a-bed9-29bf44520043",
   "metadata": {},
   "outputs": [
    {
     "data": {
      "text/plain": [
       "Index(['FOM', 'ticket_id', 'account_id', 'contract_id', 'ticket_creation_date',\n",
       "       'ticket_close_date', 'response_time', 'resolution_time', 'priority',\n",
       "       'ticket_subject', 'status', 'num_previous_tickets_same_subject'],\n",
       "      dtype='object')"
      ]
     },
     "execution_count": 454,
     "metadata": {},
     "output_type": "execute_result"
    }
   ],
   "source": [
    "monthly_tickets_df.columns"
   ]
  },
  {
   "cell_type": "code",
   "execution_count": 442,
   "id": "f010d357-029e-4412-8c27-ebcbef51bf23",
   "metadata": {},
   "outputs": [
    {
     "data": {
      "text/plain": [
       "11736"
      ]
     },
     "execution_count": 442,
     "metadata": {},
     "output_type": "execute_result"
    }
   ],
   "source": [
    "monthly_tickets_df['contract_id'].nunique()*12"
   ]
  },
  {
   "cell_type": "code",
   "execution_count": 306,
   "id": "8324b0ab-3d3d-4b40-a8bf-e4d605e0a656",
   "metadata": {},
   "outputs": [],
   "source": [
    "############ calculation features"
   ]
  },
  {
   "cell_type": "code",
   "execution_count": 494,
   "id": "83d9804d-5c80-4b6d-955c-85bc91d404fa",
   "metadata": {},
   "outputs": [],
   "source": [
    "import pandas as pd\n",
    "import numpy as np\n",
    "\n",
    "def compute_monthly_features(contract_df, monthly_tickets_df):\n",
    "    # Convert date columns to datetime\n",
    "    contract_df[\"contract_start_date\"] = pd.to_datetime(contract_df[\"contract_start_date\"])\n",
    "    contract_df[\"contract_end_date\"] = pd.to_datetime(contract_df[\"contract_end_date\"])\n",
    "    monthly_tickets_df[\"FOM\"] = pd.to_datetime(monthly_tickets_df[\"FOM\"])\n",
    "    monthly_tickets_df[\"ticket_creation_date\"] = pd.to_datetime(monthly_tickets_df[\"ticket_creation_date\"])\n",
    "    monthly_tickets_df[\"ticket_close_date\"] = pd.to_datetime(monthly_tickets_df[\"ticket_close_date\"])\n",
    "\n",
    "    # Merge contract data to bring in 'ischr' and 'isup'\n",
    "    monthly_tickets_df = monthly_tickets_df.merge(\n",
    "        contract_df[[\"account_id\", \"contract_id\", \"ischr\", \"isup\"]],\n",
    "        on=[\"account_id\", \"contract_id\"],\n",
    "        how=\"left\"\n",
    "    )\n",
    "\n",
    "    # Create lookup dictionaries for contract start and end dates\n",
    "    contract_start_lookup = contract_df.set_index([\"account_id\", \"contract_id\"])[\"contract_start_date\"].to_dict()\n",
    "    contract_end_lookup = contract_df.set_index([\"account_id\", \"contract_id\"])[\"contract_end_date\"].to_dict()\n",
    "\n",
    "    # Compute MOC (Month of Contract)\n",
    "    monthly_tickets_df[\"MOC\"] = monthly_tickets_df.apply(\n",
    "        lambda row: ((row[\"FOM\"] - contract_start_lookup.get((row[\"account_id\"], row[\"contract_id\"]), pd.NaT)).days // 30) + 1,\n",
    "        axis=1\n",
    "    )\n",
    "\n",
    "    # Compute POC (Percentage of Contract Duration)\n",
    "    monthly_tickets_df[\"contract_duration\"] = monthly_tickets_df.apply(\n",
    "        lambda row: ((contract_end_lookup.get((row[\"account_id\"], row[\"contract_id\"]), pd.NaT) -\n",
    "                     contract_start_lookup.get((row[\"account_id\"], row[\"contract_id\"]), pd.NaT)).days // 30),\n",
    "        axis=1\n",
    "    )\n",
    "    monthly_tickets_df[\"POC\"] = monthly_tickets_df[\"MOC\"] / monthly_tickets_df[\"contract_duration\"]\n",
    "\n",
    "    # Ensure unique ticket-level aggregation\n",
    "    unique_tickets_df = monthly_tickets_df.drop_duplicates(subset=[\"account_id\", \"contract_id\", \"MOC\", \"POC\", \"FOM\", \"ticket_id\"])\n",
    "\n",
    "    # Compute aggregated features at contract-month level\n",
    "    grouped = unique_tickets_df.groupby([\"account_id\", \"contract_id\", \"MOC\", \"POC\", \"FOM\"]).agg(\n",
    "        num_created_tickets=(\"ticket_id\", \"count\"),\n",
    "        num_closed_tickets=(\"ticket_close_date\", lambda x: x.notna().sum()),\n",
    "        median_resolution_time=(\"resolution_time\", lambda x: int(x.median()) if not x.isna().all() else 0),\n",
    "        max_resolution_time=(\"resolution_time\", \"max\"),\n",
    "        median_response_time=(\"response_time\", lambda x: int(x.median()) if not x.isna().all() else 0),\n",
    "        max_response_time=(\"response_time\", \"max\"),\n",
    "        median_num_previous_subject=(\"num_previous_tickets_same_subject\", lambda x: int(x.median()) if not x.isna().all() else 0),\n",
    "        max_num_previous_subject=(\"num_previous_tickets_same_subject\", \"max\"),\n",
    "        num_high_critical_tickets=(\"priority\", lambda x: sum(x.isin([\"High\", \"Critical\"]))),\n",
    "        num_open_tickets=(\"ticket_close_date\", lambda x: x.isna().sum()),\n",
    "        ischr=(\"ischr\", \"first\"),\n",
    "        isup=(\"isup\", \"first\")\n",
    "    ).reset_index()\n",
    "\n",
    "    # Ensure repeated issues do not exceed total unique tickets\n",
    "    grouped[\"num_high_critical_tickets\"] = grouped[\"num_high_critical_tickets\"].clip(upper=grouped[\"num_created_tickets\"])\n",
    "    grouped[\"median_num_previous_subject\"] = grouped[\"median_num_previous_subject\"].clip(upper=grouped[\"num_created_tickets\"])\n",
    "    grouped[\"max_num_previous_subject\"] = grouped[\"max_num_previous_subject\"].clip(upper=grouped[\"num_created_tickets\"])\n",
    "\n",
    "    # Month-over-Month (MoM) changes\n",
    "    for col in [\n",
    "        \"num_created_tickets\", \"num_closed_tickets\", \"median_resolution_time\", \n",
    "        \"max_resolution_time\", \"median_response_time\", \"max_response_time\", \n",
    "        \"num_high_critical_tickets\", \"num_open_tickets\"\n",
    "    ]:\n",
    "        grouped[f\"mom_{col}\"] = grouped.groupby([\"account_id\", \"contract_id\"])[col].diff()\n",
    "\n",
    "    return grouped\n",
    "\n",
    "# Example usage:\n",
    "final_features_df = compute_monthly_features(contract_df, monthly_tickets_df)\n"
   ]
  },
  {
   "cell_type": "code",
   "execution_count": null,
   "id": "2e6bc113-f709-4672-8a3f-8a68535a8b2f",
   "metadata": {},
   "outputs": [],
   "source": [
    "in the following calculation we need to aggregate based on every contract every month, therefore the field of :tickect_id,ticket_creation_date',\n",
    "       'ticket_close_date', 'response_time', 'resolution_time', 'priority', 'ticket_subject', 'status', 'num_previous_tickets_same_subject' \n",
    "    should not exist in the final data frame as we aggregate all tickect level data to contract level per month\n",
    "    could you also add 'ischr' and 'isup' from contract data to this set?"
   ]
  },
  {
   "cell_type": "code",
   "execution_count": 456,
   "id": "6a8e7619-d376-4ba1-9cc6-322802f1a786",
   "metadata": {},
   "outputs": [],
   "source": [
    "import pandas as pd\n",
    "\n",
    "def compute_monthly_features(contract_df, monthly_tickets_df):\n",
    "    # Convert date columns to datetime\n",
    "    contract_df[\"contract_start_date\"] = pd.to_datetime(contract_df[\"contract_start_date\"])\n",
    "    contract_df[\"contract_end_date\"] = pd.to_datetime(contract_df[\"contract_end_date\"])\n",
    "    monthly_tickets_df[\"FOM\"] = pd.to_datetime(monthly_tickets_df[\"FOM\"])\n",
    "    monthly_tickets_df[\"ticket_creation_date\"] = pd.to_datetime(monthly_tickets_df[\"ticket_creation_date\"])\n",
    "    monthly_tickets_df[\"ticket_close_date\"] = pd.to_datetime(monthly_tickets_df[\"ticket_close_date\"])\n",
    "\n",
    "    # Merge contract data to bring in 'ischr' and 'isup'\n",
    "    monthly_tickets_df = monthly_tickets_df.merge(\n",
    "        contract_df[[\"account_id\", \"contract_id\", \"ischr\", \"isup\"]],\n",
    "        on=[\"account_id\", \"contract_id\"],\n",
    "        how=\"left\"\n",
    "    )\n",
    "\n",
    "    # Create lookup dictionaries for contract start and end dates\n",
    "    contract_start_lookup = contract_df.set_index([\"account_id\", \"contract_id\"])[\"contract_start_date\"].to_dict()\n",
    "    contract_end_lookup = contract_df.set_index([\"account_id\", \"contract_id\"])[\"contract_end_date\"].to_dict()\n",
    "\n",
    "    # Compute MOC (Month of Contract)\n",
    "    monthly_tickets_df[\"MOC\"] = monthly_tickets_df.apply(\n",
    "        lambda row: ((row[\"FOM\"] - contract_start_lookup.get((row[\"account_id\"], row[\"contract_id\"]), pd.NaT)).days // 30) + 1,\n",
    "        axis=1\n",
    "    )\n",
    "\n",
    "    # Compute POC (Percentage of Contract Duration)\n",
    "    monthly_tickets_df[\"contract_duration\"] = monthly_tickets_df.apply(\n",
    "        lambda row: ((contract_end_lookup.get((row[\"account_id\"], row[\"contract_id\"]), pd.NaT) -\n",
    "                     contract_start_lookup.get((row[\"account_id\"], row[\"contract_id\"]), pd.NaT)).days // 30),\n",
    "        axis=1\n",
    "    )\n",
    "    monthly_tickets_df[\"POC\"] = monthly_tickets_df[\"MOC\"] / monthly_tickets_df[\"contract_duration\"]\n",
    "\n",
    "    # Compute aggregated features at contract-month level\n",
    "    grouped = monthly_tickets_df.groupby([\"account_id\", \"contract_id\", \"MOC\", \"POC\", \"FOM\"]).agg(\n",
    "        num_created_tickets=(\"ticket_id\", \"count\"),\n",
    "        num_closed_tickets=(\"ticket_close_date\", lambda x: x.notna().sum()),\n",
    "        median_resolution_time=(\"resolution_time\", \"median\"),\n",
    "        max_resolution_time=(\"resolution_time\", \"max\"),\n",
    "        median_response_time=(\"response_time\", \"median\"),\n",
    "        max_response_time=(\"response_time\", \"max\"),\n",
    "        median_num_previous_subject=(\"num_previous_tickets_same_subject\", \"median\"),\n",
    "        max_num_previous_subject=(\"num_previous_tickets_same_subject\", \"max\"),\n",
    "        num_high_critical_tickets=(\"priority\", lambda x: sum(x.isin([\"High\", \"Critical\"]))),\n",
    "        num_open_tickets=(\"ticket_close_date\", lambda x: x.isna().sum()),\n",
    "        ischr=(\"ischr\", \"first\"),\n",
    "        isup=(\"isup\", \"first\")\n",
    "    ).reset_index()\n",
    "\n",
    "    # Month-over-Month (MoM) changes\n",
    "    for col in [\n",
    "        \"num_created_tickets\", \"num_closed_tickets\", \"median_resolution_time\", \n",
    "        \"max_resolution_time\", \"median_response_time\", \"max_response_time\", \n",
    "        \"num_high_critical_tickets\", \"num_open_tickets\"\n",
    "    ]:\n",
    "        grouped[f\"mom_{col}\"] = grouped.groupby([\"account_id\", \"contract_id\"])[col].diff()\n",
    "\n",
    "    return grouped\n",
    "\n",
    "# Example usage:\n",
    "final_features_df = compute_monthly_features(contract_df, monthly_tickets_df)\n",
    "final_features_df['contract_year'] = final_features_df['FOM'].dt.year"
   ]
  },
  {
   "cell_type": "code",
   "execution_count": 511,
   "id": "47e8bf15-d74b-46fd-aa32-2be05aa29720",
   "metadata": {},
   "outputs": [
    {
     "data": {
      "text/plain": [
       "Index(['account_id', 'contract_id', 'MOC', 'POC', 'FOM', 'num_created_tickets',\n",
       "       'num_closed_tickets', 'median_resolution_time', 'max_resolution_time',\n",
       "       'median_response_time', 'max_response_time',\n",
       "       'median_num_previous_subject', 'max_num_previous_subject',\n",
       "       'num_high_critical_tickets', 'num_open_tickets', 'ischr', 'isup',\n",
       "       'mom_num_created_tickets', 'mom_num_closed_tickets',\n",
       "       'mom_median_resolution_time', 'mom_max_resolution_time',\n",
       "       'mom_median_response_time', 'mom_max_response_time',\n",
       "       'mom_num_high_critical_tickets', 'mom_num_open_tickets',\n",
       "       'contract_year'],\n",
       "      dtype='object')"
      ]
     },
     "execution_count": 511,
     "metadata": {},
     "output_type": "execute_result"
    }
   ],
   "source": [
    "final_features_df.columns"
   ]
  },
  {
   "cell_type": "code",
   "execution_count": 513,
   "id": "3d806b1d-4684-486e-8360-f036e6a90a71",
   "metadata": {
    "scrolled": true
   },
   "outputs": [
    {
     "data": {
      "text/html": [
       "<div>\n",
       "<style scoped>\n",
       "    .dataframe tbody tr th:only-of-type {\n",
       "        vertical-align: middle;\n",
       "    }\n",
       "\n",
       "    .dataframe tbody tr th {\n",
       "        vertical-align: top;\n",
       "    }\n",
       "\n",
       "    .dataframe thead th {\n",
       "        text-align: right;\n",
       "    }\n",
       "</style>\n",
       "<table border=\"1\" class=\"dataframe\">\n",
       "  <thead>\n",
       "    <tr style=\"text-align: right;\">\n",
       "      <th>num_created_tickets</th>\n",
       "      <th>1</th>\n",
       "      <th>2</th>\n",
       "      <th>3</th>\n",
       "      <th>4</th>\n",
       "    </tr>\n",
       "    <tr>\n",
       "      <th>median_num_previous_subject</th>\n",
       "      <th></th>\n",
       "      <th></th>\n",
       "      <th></th>\n",
       "      <th></th>\n",
       "    </tr>\n",
       "  </thead>\n",
       "  <tbody>\n",
       "    <tr>\n",
       "      <th>0</th>\n",
       "      <td>2480</td>\n",
       "      <td>227</td>\n",
       "      <td>5</td>\n",
       "      <td>0</td>\n",
       "    </tr>\n",
       "    <tr>\n",
       "      <th>1</th>\n",
       "      <td>2131</td>\n",
       "      <td>573</td>\n",
       "      <td>64</td>\n",
       "      <td>4</td>\n",
       "    </tr>\n",
       "    <tr>\n",
       "      <th>2</th>\n",
       "      <td>0</td>\n",
       "      <td>890</td>\n",
       "      <td>133</td>\n",
       "      <td>12</td>\n",
       "    </tr>\n",
       "    <tr>\n",
       "      <th>3</th>\n",
       "      <td>0</td>\n",
       "      <td>0</td>\n",
       "      <td>296</td>\n",
       "      <td>20</td>\n",
       "    </tr>\n",
       "    <tr>\n",
       "      <th>4</th>\n",
       "      <td>0</td>\n",
       "      <td>0</td>\n",
       "      <td>0</td>\n",
       "      <td>45</td>\n",
       "    </tr>\n",
       "  </tbody>\n",
       "</table>\n",
       "</div>"
      ],
      "text/plain": [
       "num_created_tickets             1    2    3   4\n",
       "median_num_previous_subject                    \n",
       "0                            2480  227    5   0\n",
       "1                            2131  573   64   4\n",
       "2                               0  890  133  12\n",
       "3                               0    0  296  20\n",
       "4                               0    0    0  45"
      ]
     },
     "execution_count": 513,
     "metadata": {},
     "output_type": "execute_result"
    }
   ],
   "source": [
    "pd.crosstab(final_features_df['median_num_previous_subject'], final_features_df['num_created_tickets'])"
   ]
  },
  {
   "cell_type": "code",
   "execution_count": 515,
   "id": "60d7c512-60c1-4bcf-97b0-79ad44d0db1d",
   "metadata": {},
   "outputs": [
    {
     "data": {
      "text/plain": [
       "(6880, 26)"
      ]
     },
     "execution_count": 515,
     "metadata": {},
     "output_type": "execute_result"
    }
   ],
   "source": [
    "final_features_df.shape"
   ]
  },
  {
   "cell_type": "code",
   "execution_count": 517,
   "id": "6961d924-80fa-4b90-b593-02ce39406a58",
   "metadata": {},
   "outputs": [],
   "source": [
    "final_features_df.to_csv(\"data/0_sim_support_tickets_monthly_features_aggs.csv\", index=False)"
   ]
  },
  {
   "cell_type": "code",
   "execution_count": null,
   "id": "bc43d1ec-9986-4008-a629-dbfc65160e23",
   "metadata": {},
   "outputs": [],
   "source": []
  },
  {
   "cell_type": "code",
   "execution_count": 545,
   "id": "836d3969-933b-415a-b305-49f50be46d09",
   "metadata": {},
   "outputs": [],
   "source": [
    "features=['num_created_tickets', 'num_closed_tickets', 'median_resolution_time','max_resolution_time', 'median_response_time', 'max_response_time',\n",
    "          'num_high_critical_tickets', 'median_num_previous_subject']\n",
    "data=final_features_df.copy()"
   ]
  },
  {
   "cell_type": "code",
   "execution_count": 547,
   "id": "aa326ac4-b2d7-47f9-b146-c31b094b351f",
   "metadata": {},
   "outputs": [],
   "source": [
    "# Filter data for ischr == True\n",
    "data_chr = data[data['ischr'] ==1 ]\n",
    "stats_chr = data_chr.groupby(['contract_year'])[features].agg(['min', 'mean', 'median', 'max', 'std']).reset_index()\n",
    "\n",
    "# Filter data for has_next_contract == True\n",
    "data_renew = data[data['isup'] == 1]\n",
    "stats_renew = data_renew.groupby(['contract_year'])[features].agg(['min', 'mean', 'median', 'max', 'std']).reset_index()\n",
    "\n",
    "# Initialize an empty dictionary to store results\n",
    "stats_dict = {}\n",
    "\n",
    "# Loop through both stats for 'ischr' and 'has_next_contract' and add to the dictionary\n",
    "for stat_df, key in zip([stats_chr, stats_renew], ['ischr', 'isup']):\n",
    "    # Loop through features and stats\n",
    "    for feature in features:\n",
    "        for stat in ['min', 'mean', 'median', 'max', 'std']:\n",
    "            # Create a key combining feature, stat, contract_year, and 'ischr' or 'has_next_contract'\n",
    "            for contract_year in stat_df['contract_year']:\n",
    "                # Add each result to the dictionary\n",
    "                stats_dict[(feature, stat, contract_year, key)] = stat_df.loc[stat_df['contract_year'] == contract_year, (feature, stat)].values[0]"
   ]
  },
  {
   "cell_type": "code",
   "execution_count": 549,
   "id": "e3e400c6-17fc-4749-8e80-94665f6de336",
   "metadata": {},
   "outputs": [],
   "source": [
    "#stats_dict\n",
    "df = pd.DataFrame(\n",
    "    [(feature, stat, year, category, value) for (feature, stat, year, category), value in stats_dict.items()],\n",
    "    columns=['Feature', 'Statistic', 'Year', 'Category', 'Value']\n",
    ")\n",
    "df.to_csv(\"data/0_sim_support_tickects_yearly_fuzzy.csv\", index=False)"
   ]
  },
  {
   "cell_type": "code",
   "execution_count": 551,
   "id": "7654f577-3925-4af7-be7b-bcf2be0bc5e9",
   "metadata": {},
   "outputs": [],
   "source": [
    "# Iterate through each feature in ff\n",
    "for f in features:\n",
    "    # Iterate through each row in data\n",
    "    for idx, row in data.iterrows():\n",
    "        year = 0\n",
    "        label = ''\n",
    "        \n",
    "        # Determine the contract year, later change this\n",
    "               \n",
    "        if row['contract_year'] == data['contract_year'].min():\n",
    "            year = row['contract_year']\n",
    "        else:\n",
    "            year = row['contract_year'] - 1\n",
    "\n",
    "        # Get the median values from stats_dict for 'ischr' and 'has_next_contract'\n",
    "        median_ischr = stats_dict.get((f, 'median', year, 'ischr'), None)\n",
    "        median_renew = stats_dict.get((f, 'median', year, 'isup'), None)\n",
    "        # Check if the median values exist, otherwise assign 'normal'\n",
    "        if median_ischr is not None and row[f] < median_ischr:\n",
    "            label = 'risky'\n",
    "        elif median_renew is not None and row[f] > median_renew:\n",
    "            label = 'healthy'\n",
    "        elif row[f] >= median_ischr and row[f]<= median_renew:\n",
    "            label = 'normal'\n",
    "        else:\n",
    "            label = 'noun'\n",
    "\n",
    "        # Assign the label to the row (new column with label for that feature)\n",
    "        data.at[idx, f + '_label'] = label\n",
    "        data.at[idx, f + '_median_ischr'] = median_ischr\n",
    "        data.at[idx, f + '_median_isup'] = median_renew"
   ]
  },
  {
   "cell_type": "code",
   "execution_count": 552,
   "id": "f1346ae0-3d4b-416d-ad02-831a38370c72",
   "metadata": {},
   "outputs": [],
   "source": [
    "data.to_csv(\"data/0_sim_support_tickect_monthly_features_agg.csv\", index=False)"
   ]
  },
  {
   "cell_type": "code",
   "execution_count": 553,
   "id": "611de5fa-c715-48bd-ac18-d038de14d3bc",
   "metadata": {},
   "outputs": [],
   "source": [
    "a=[]\n",
    "for i in  data.columns.tolist():\n",
    "    if ('label' in i ):\n",
    "        a.append(i)\n",
    "aa=a+['ischr','isup']"
   ]
  },
  {
   "cell_type": "code",
   "execution_count": 561,
   "id": "27ecb945-d713-4c17-9868-c85c79f9a723",
   "metadata": {},
   "outputs": [],
   "source": [
    "# Define a mapping function to convert categorical values into -1, 0, 1\n",
    "def map_categories_to_numeric(value):\n",
    "    if value == 'risky':  # Risky category mapped to -1\n",
    "        return -1\n",
    "    elif value == 'healthy':  # Healthy category mapped to 1\n",
    "        return 1\n",
    "    else:  # Neutral or normal categories mapped to 0\n",
    "        return 0\n",
    "\n",
    "# Apply the mapping function to the categorical columns\n",
    "categorical_columns = data.select_dtypes(include=['object']).columns\n",
    "for col in categorical_columns:\n",
    "    data[col] = data[col].apply(map_categories_to_numeric)\n",
    "\n",
    "weights = {}\n",
    "for col in a:\n",
    "    # Calculate the correlation of each feature with the target variable 'ischr'\n",
    "    correlation = data[col].corr(data['ischr'])\n",
    "    weights[col] = correlation\n",
    "\n",
    "# Create a DataFrame to display the feature weights\n",
    "weights_df = pd.DataFrame(list(weights.items()), columns=['Feature', 'Weight'])\n",
    "weights_df\n",
    "\n",
    "wl=[]\n",
    "for i in weights_df['Weight'].tolist():\n",
    "    #wl.append(i/sum(l))\n",
    "    wl.append(1/len(a))\n",
    "data['score']=0\n",
    "for i,j in zip(a,wl):\n",
    "    data['score']=data['score']+data[i]*j\n",
    "\n",
    "data['support_score_label'] = data['score'].apply(lambda x: 'healthy' if x > 0 else ('normal' if x == 0 else 'risky'))"
   ]
  },
  {
   "cell_type": "code",
   "execution_count": 563,
   "id": "16f73ba7-3b76-45c2-af25-314664c2fc31",
   "metadata": {},
   "outputs": [
    {
     "data": {
      "text/plain": [
       "support_score_label\n",
       "risky      3685\n",
       "healthy    2602\n",
       "normal      593\n",
       "Name: count, dtype: int64"
      ]
     },
     "execution_count": 563,
     "metadata": {},
     "output_type": "execute_result"
    }
   ],
   "source": [
    "data['support_score_label'].value_counts()"
   ]
  },
  {
   "cell_type": "code",
   "execution_count": 565,
   "id": "bc575fcf-d092-4331-9d38-db4d2c7c6dde",
   "metadata": {},
   "outputs": [],
   "source": [
    "data.to_csv('data/1_score_support.csv', index=False)"
   ]
  },
  {
   "cell_type": "code",
   "execution_count": null,
   "id": "ae018671-3922-42dd-9774-240139063f53",
   "metadata": {},
   "outputs": [],
   "source": []
  }
 ],
 "metadata": {
  "kernelspec": {
   "display_name": "Python [conda env:base] *",
   "language": "python",
   "name": "conda-base-py"
  },
  "language_info": {
   "codemirror_mode": {
    "name": "ipython",
    "version": 3
   },
   "file_extension": ".py",
   "mimetype": "text/x-python",
   "name": "python",
   "nbconvert_exporter": "python",
   "pygments_lexer": "ipython3",
   "version": "3.12.7"
  }
 },
 "nbformat": 4,
 "nbformat_minor": 5
}
