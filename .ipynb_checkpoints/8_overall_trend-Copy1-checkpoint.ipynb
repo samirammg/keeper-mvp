{
 "cells": [
  {
   "cell_type": "code",
   "execution_count": 213,
   "id": "41e0b8ec-4da9-4c75-8424-b1e58107dab6",
   "metadata": {},
   "outputs": [
    {
     "data": {
      "text/plain": [
       "Index(['FOM', 'ch1', 'ch1_d', 'ex1', 'ex1_d', 're1', 're1_d', 'ch2', 'ch2_d',\n",
       "       'ex2', 'ex2_d', 're2', 're2_d', 'ch3', 'ch3_d', 'ex3', 'ex3_d', 're3',\n",
       "       're3_d', 'ch4', 'ch4_d', 'ex4', 'ex4_d', 're4', 're4_d', 'ch5', 'ch5_d',\n",
       "       'ex5', 'ex5_d', 're5', 're5_d', 'ch6', 'ch6_d', 'ex6', 'ex6_d', 're6',\n",
       "       're6_d', 'real_ch', 'real_ch_d', 'real_ex', 'real_ex_d', 'real_re',\n",
       "       'real_re_d', 'isup_count', 'isdown_count', 'issame_count',\n",
       "       'isup_ratio_count', 'avg_upsell_amount', 'total_upsell_amount',\n",
       "       'upsell_count', 'Month', 'New Accounts', 'New ACV', 'Renew Accounts',\n",
       "       'Renew ACV', 'Upsell Accounts', 'Upsell ACV', 'Churn Accounts',\n",
       "       'Churn ACV', 'Cumulative Churn Accounts', 'Cumulative New Accounts',\n",
       "       'Cumulative Renew Accounts', 'Cumulative Churn ACV',\n",
       "       'Cumulative New ACV', 'Cumulative Renew ACV', 'Active Accounts',\n",
       "       'Active ACV', 'Churn Accounts Rate', 'New Accounts Rate',\n",
       "       'Churn ACV Rate', 'New ACV Rate', 'avg_upsell_rate', 'avg_upsell_d',\n",
       "       'avg_new_rate'],\n",
       "      dtype='object')"
      ]
     },
     "execution_count": 213,
     "metadata": {},
     "output_type": "execute_result"
    }
   ],
   "source": [
    "df_all.columns"
   ]
  },
  {
   "cell_type": "code",
   "execution_count": 237,
   "id": "4b36b187-0fa3-426a-8ce9-8db16669b886",
   "metadata": {},
   "outputs": [
    {
     "name": "stdout",
     "output_type": "stream",
     "text": [
      "✅ Final shape (should be 83 rows): (83, 76)\n"
     ]
    },
    {
     "name": "stderr",
     "output_type": "stream",
     "text": [
      "C:\\Users\\samir\\AppData\\Local\\Temp\\ipykernel_43084\\3906348508.py:85: FutureWarning: A value is trying to be set on a copy of a DataFrame or Series through chained assignment using an inplace method.\n",
      "The behavior will change in pandas 3.0. This inplace method will never work because the intermediate object on which we are setting values always behaves as a copy.\n",
      "\n",
      "For example, when doing 'df[col].method(value, inplace=True)', try using 'df.method({col: value}, inplace=True)' or df[col] = df[col].method(value) instead, to perform the operation inplace on the original object.\n",
      "\n",
      "\n",
      "  df_all[col].fillna(0, inplace=True)\n"
     ]
    }
   ],
   "source": [
    "import pandas as pd\n",
    "import numpy as np\n",
    "# --- Load Score Data ---\n",
    "df = pd.read_csv('data/5_model_final_score_dashboard_data.csv')\n",
    "df['FOM'] = pd.to_datetime(df['FOM'])\n",
    "df['final_status'] = df['final_status'].str.lower()\n",
    "df['stage'] = df['stage'].str.lower()\n",
    "\n",
    "# --- Stage-based Metrics per MOC 11 to 6 ---\n",
    "target_mocs = [11, 10, 9, 8, 7, 6]\n",
    "df_filtered = df[df['MOC'].isin(target_mocs)].copy()\n",
    "\n",
    "records_stage = []\n",
    "for fom, group in df_filtered.groupby('FOM'):\n",
    "    row = {'FOM': fom}\n",
    "    for i, moc in enumerate(target_mocs, start=1):\n",
    "        sub = group[group['MOC'] == moc]\n",
    "        for status, prefix in zip(['risky', 'expansion', 'renewal'], ['ch', 'ex', 're']):\n",
    "            mask = sub['stage'] == status\n",
    "            row[f'{prefix}{i}'] = mask.sum()\n",
    "            row[f'{prefix}{i}_d'] = sub.loc[mask, 'contract_acv'].sum()\n",
    "    records_stage.append(row)\n",
    "\n",
    "df_stage = pd.DataFrame(records_stage)\n",
    "\n",
    "# --- Final Status Metrics ---\n",
    "records_status = []\n",
    "for fom, group in df.groupby('FOM'):\n",
    "    row = {'FOM': fom}\n",
    "    for status, prefix in zip(['renewal', 'risky', 'expansion'], ['real_ch', 'real_ex', 'real_re']):\n",
    "        mask = group['final_status'] == status\n",
    "        row[f'{prefix}'] = mask.sum()\n",
    "        row[f'{prefix}_d'] = group.loc[mask, 'contract_acv'].sum()\n",
    "    records_status.append(row)\n",
    "\n",
    "df_status = pd.DataFrame(records_status)\n",
    "\n",
    "# --- Combine Stage + Final Status Metrics ---\n",
    "df_metrics = pd.merge(df_stage, df_status, on='FOM', how='outer')\n",
    "\n",
    "# --- Load Monthly Contract Simulation (83-row anchor) ---\n",
    "df_contract_monthly = pd.read_excel('data/0_sim_monthly_contract.xlsx')\n",
    "df_contract_monthly['Month'] = pd.to_datetime(df_contract_monthly['Month'])\n",
    "df_base = df_contract_monthly[['Month']].rename(columns={'Month': 'FOM'})\n",
    "\n",
    "# --- Merge in df_metrics to retain all FOMs ---\n",
    "df_base = df_base.merge(df_metrics, on='FOM', how='left')\n",
    "\n",
    "# --- Load Full Contract Dataset ---\n",
    "df_contracts = pd.read_excel(\"data/0_sim_contract.xlsx\")\n",
    "df_contracts['contract_end_date'] = pd.to_datetime(df_contracts['contract_end_date'])\n",
    "df_contracts['FOM'] = df_contracts['contract_end_date'].dt.to_period('M').dt.to_timestamp()\n",
    "\n",
    "# --- Summary of Contract Type Counts ---\n",
    "df_summary = df_contracts.groupby('FOM').agg(\n",
    "    isup_count=('isup', 'sum'),\n",
    "    isdown_count=('isdown', 'sum'),\n",
    "    issame_count=('issame', 'sum')\n",
    ").reset_index()\n",
    "\n",
    "df_summary['isup_ratio_count'] = df_summary['isup_count'] / (\n",
    "    df_summary['isup_count'] + df_summary['isdown_count'] + df_summary['issame_count']\n",
    ")\n",
    "\n",
    "# --- Upsell Summary ---\n",
    "df_upsell = df_contracts[df_contracts['isup'] == True]\n",
    "df_upsell_summary = df_upsell.groupby('FOM').agg(\n",
    "    avg_upsell_amount=('next_contract_value_change', 'mean'),\n",
    "    total_upsell_amount=('next_contract_value_change', 'sum'),\n",
    "    upsell_count=('next_contract_value_change', 'count')\n",
    ").reset_index()\n",
    "\n",
    "# --- Merge Contract Count + Upsell Summary ---\n",
    "df_contract_summary = pd.merge(df_summary, df_upsell_summary, on='FOM', how='outer')\n",
    "df_contract_summary[['avg_upsell_amount', 'total_upsell_amount', 'upsell_count']] = \\\n",
    "    df_contract_summary[['avg_upsell_amount', 'total_upsell_amount', 'upsell_count']].fillna(0)\n",
    "\n",
    "# --- Merge all into df_base (starting from FOM anchor) ---\n",
    "df_all = df_base.merge(df_contract_summary, on='FOM', how='left')\n",
    "df_all = df_all.merge(df_contract_monthly, left_on='FOM', right_on='Month', how='left')\n",
    "\n",
    "# Fill all missing values in metrics with 0 to ensure completeness\n",
    "for col in df_all.columns:\n",
    "    if df_all[col].dtype in ['float64', 'int64']:\n",
    "        df_all[col].fillna(0, inplace=True)\n",
    "\n",
    "# --- Rolling Averages ---\n",
    "df_all = df_all.sort_values(by='FOM')\n",
    "df_all['New ACV per account'] = np.where(\n",
    "    df_all['New Accounts'] == 0,\n",
    "    0,\n",
    "    df_all['New ACV'] / df_all['New Accounts']\n",
    ")\n",
    "df_all['avg_upsell_rate'] = df_all['isup_ratio_count'].rolling(window=3).mean()\n",
    "df_all['avg_upsell_d'] = df_all['avg_upsell_amount'].rolling(window=3).mean()\n",
    "if 'New Accounts Rate' in df_all.columns:\n",
    "    df_all['avg_new_rate'] = df_all['New Accounts Rate'].rolling(window=3).mean()\n",
    "    \n",
    "    df_all['avg_new_acv'] = df_all['New ACV per account'].rolling(window=3).mean()\n",
    "# Final shape check\n",
    "print(\"✅ Final shape (should be 83 rows):\", df_all.shape)\n",
    "\n",
    "# Optional: Save to file\n",
    "# df_all.to_csv(\"final_83_row_dashboard.csv\", index=False)\n"
   ]
  },
  {
   "cell_type": "code",
   "execution_count": 239,
   "id": "e4c27096-66a9-4aa3-ac3b-0627218b30fa",
   "metadata": {},
   "outputs": [],
   "source": [
    "df_all.to_csv(\"data/5-trend_simulation_dashboard.csv\", index=False)"
   ]
  },
  {
   "cell_type": "code",
   "execution_count": 241,
   "id": "f03f2726-d819-4fd5-a8c2-a67a58ceaf7c",
   "metadata": {},
   "outputs": [
    {
     "data": {
      "text/plain": [
       "Index(['FOM', 'ch1', 'ch1_d', 'ex1', 'ex1_d', 're1', 're1_d', 'ch2', 'ch2_d',\n",
       "       'ex2', 'ex2_d', 're2', 're2_d', 'ch3', 'ch3_d', 'ex3', 'ex3_d', 're3',\n",
       "       're3_d', 'ch4', 'ch4_d', 'ex4', 'ex4_d', 're4', 're4_d', 'ch5', 'ch5_d',\n",
       "       'ex5', 'ex5_d', 're5', 're5_d', 'ch6', 'ch6_d', 'ex6', 'ex6_d', 're6',\n",
       "       're6_d', 'real_ch', 'real_ch_d', 'real_ex', 'real_ex_d', 'real_re',\n",
       "       'real_re_d', 'isup_count', 'isdown_count', 'issame_count',\n",
       "       'isup_ratio_count', 'avg_upsell_amount', 'total_upsell_amount',\n",
       "       'upsell_count', 'Month', 'New Accounts', 'New ACV', 'Renew Accounts',\n",
       "       'Renew ACV', 'Upsell Accounts', 'Upsell ACV', 'Churn Accounts',\n",
       "       'Churn ACV', 'Cumulative Churn Accounts', 'Cumulative New Accounts',\n",
       "       'Cumulative Renew Accounts', 'Cumulative Churn ACV',\n",
       "       'Cumulative New ACV', 'Cumulative Renew ACV', 'Active Accounts',\n",
       "       'Active ACV', 'Churn Accounts Rate', 'New Accounts Rate',\n",
       "       'Churn ACV Rate', 'New ACV Rate', 'New ACV per account',\n",
       "       'avg_upsell_rate', 'avg_upsell_d', 'avg_new_rate', 'avg_new_acv'],\n",
       "      dtype='object')"
      ]
     },
     "execution_count": 241,
     "metadata": {},
     "output_type": "execute_result"
    }
   ],
   "source": [
    "df_all.columns"
   ]
  },
  {
   "cell_type": "code",
   "execution_count": 249,
   "id": "fb06f7f5-cbe4-46be-a14b-07eb674b7246",
   "metadata": {},
   "outputs": [
    {
     "data": {
      "text/plain": [
       "Index(['Month', 'Healthy & Engaged', 'Upsell Potential', 'At Risk of Churn',\n",
       "       'Churn Rate', 'New Accounts', 'Active Acv', 'Active Accounts',\n",
       "       'Cumulative Churn Accounts', 'Cumulative New Accounts',\n",
       "       'Cumulative Renew Accounts', 'Churn ACV', 'Expansion ACV',\n",
       "       'Renewal ACV', 'Cumulative Churn ACV', 'Cumulative New ACV',\n",
       "       'Cumulative Renewal ACV'],\n",
       "      dtype='object')"
      ]
     },
     "execution_count": 249,
     "metadata": {},
     "output_type": "execute_result"
    }
   ],
   "source": [
    "import pandas as pd\n",
    "\n",
    "# Load simulation data\n",
    "df_sim = pd.read_csv('data/5-trend_simulation_dashboard.csv')\n",
    "df_sim['Month'] = pd.to_datetime(df_sim['Month'])\n",
    "\n",
    "# Define the projection function with ACV support\n",
    "def calculate_6_month_projection(start_month):\n",
    "    start_month = pd.to_datetime(start_month)\n",
    "    \n",
    "    # Get the row for the selected FOM\n",
    "    row = df_sim[df_sim['Month'] == start_month]\n",
    "    if row.empty:\n",
    "        print(\"No data for selected month.\")\n",
    "        return pd.DataFrame()\n",
    "    \n",
    "    row = row.iloc[0]\n",
    "\n",
    "    active = row.get('Active Accounts', 0)\n",
    "    avg_new_rate = row.get('avg_new_rate', 0)\n",
    "    avg_new_acv = row.get('avg_new_acv', 0)\n",
    "\n",
    "    records = []\n",
    "    cum_churn = 0\n",
    "    cum_new = 0\n",
    "    cum_renew = 0\n",
    "    \n",
    "    cum_churn_acv = 0\n",
    "    cum_new_acv = 0\n",
    "    cum_renewal_acv = 0\n",
    "\n",
    "    for i in range(1, 7):\n",
    "        ch = row.get(f'ch{i}', 0)\n",
    "        ex = row.get(f'ex{i}', 0)\n",
    "        re = row.get(f're{i}', 0)\n",
    "\n",
    "        ch_d = row.get(f'ch{i}_d', 0)\n",
    "        ex_d = row.get(f'ex{i}_d', 0)\n",
    "        re_d = row.get(f're{i}_d', 0)\n",
    "\n",
    "        new_actual = row.get('New Accounts', 0)\n",
    "\n",
    "        new1 = round((avg_new_rate*(active + re + ex - ch) / (1 - avg_new_rate)),0) if (1 - avg_new_rate) != 0 else 0\n",
    "        new_acv=new1*avg_new_acv\n",
    "        active_calc = active + re + ex - ch + new1\n",
    "        active_acv_calc=new_acv+re_d+ex_d-ch_d\n",
    "        \n",
    "        healthy_engaged = re + ex + new1\n",
    "        upsell_potential = ex\n",
    "        at_risk = ch\n",
    "        ch_rate=ch/active_calc\n",
    "        \n",
    "        cum_churn += ch\n",
    "        cum_new += new1\n",
    "        cum_renew += re + ex\n",
    "\n",
    "        cum_churn_acv += ch_d\n",
    "        cum_new_acv += new_acv\n",
    "        cum_renewal_acv += re_d +ex_d\n",
    "\n",
    "        records.append({\n",
    "            'Month': start_month + pd.DateOffset(months=i),\n",
    "            'Healthy & Engaged': healthy_engaged,\n",
    "            'Upsell Potential': upsell_potential,\n",
    "            'At Risk of Churn': at_risk,\n",
    "            'Churn Rate':ch_rate,#\n",
    "            'New Accounts': new1,\n",
    "            'Active Acv':active_acv_calc,#\n",
    "            'Active Accounts': active_calc, #\n",
    "            'Cumulative Churn Accounts': cum_churn, #\n",
    "            'Cumulative New Accounts': cum_new, #\n",
    "            'Cumulative Renew Accounts': cum_renew,#\n",
    "            'Churn ACV': ch_d,#\n",
    "            'Expansion ACV': ex_d,#\n",
    "            'Renewal ACV': re_d,\n",
    "            'Cumulative Churn ACV': cum_churn_acv,\n",
    "            'Cumulative New ACV': cum_new_acv,\n",
    "            'Cumulative Renewal ACV': cum_renewal_acv\n",
    "        })\n",
    "\n",
    "    return pd.DataFrame(records)\n",
    "\n",
    "def summarize_projection(results):\n",
    "    if results.empty:\n",
    "        return {}\n",
    "\n",
    "    summary = {\n",
    "        'prj_acv': results['Active Acv'].sum(),\n",
    "        'prj_churn_rate': results['Churn Rate'].mean(),\n",
    "        'prj_lose_acv': results['Churn ACV'].sum(),\n",
    "        'prj_up_acv': results['Expansion ACV'].sum(),\n",
    "        'prj_active': results['Active Accounts'].iloc[-1]\n",
    "    }\n",
    "\n",
    "    return summary\n",
    "\n",
    "def extract_projection_summary(results):\n",
    "    columns_to_keep = [\n",
    "        'Cumulative Renew Accounts',\n",
    "        'Cumulative New Accounts',\n",
    "        'Active Accounts',\n",
    "        'Cumulative Churn Accounts'\n",
    "    ]\n",
    "    \n",
    "    return results[columns_to_keep].copy()\n",
    "\n",
    "\n",
    "result = calculate_6_month_projection('2023-01-01')\n",
    "\n",
    "\n",
    "\n",
    "summary_result = summarize_projection(result)\n",
    "\n",
    "\n",
    "\n",
    "df_proj = extract_projection_summary(result)\n",
    "\n"
   ]
  },
  {
   "cell_type": "code",
   "execution_count": 255,
   "id": "a01a765b-9ed5-467a-9bac-81d094d46648",
   "metadata": {},
   "outputs": [
    {
     "data": {
      "text/plain": [
       "{'prj_acv': 7329960.714285714,\n",
       " 'prj_churn_rate': 0.03415166886553994,\n",
       " 'prj_lose_acv': 5688500.0,\n",
       " 'prj_up_acv': 2228750.0,\n",
       " 'prj_active': 405.0}"
      ]
     },
     "execution_count": 255,
     "metadata": {},
     "output_type": "execute_result"
    }
   ],
   "source": [
    "Future Projection & Trend Analysis\t\n",
    "Projected ARR (Next 6 months) \t$XXM ('prj_acv' in million)\n",
    "Projected Churn Impact \tIf churn continues at X'prj_churn_rate'%, ARR lose will be $YYM ('prj_lose_acv' in Million)\n",
    "Expected Upsell Growth\tPotential revenue increase of $ZZM ('prj_up_acv' in million)\n",
    "Customer Growth Forecast \tProjected active customers in next 6 months: XXXX ('prj_active')\n"
   ]
  },
  {
   "cell_type": "code",
   "execution_count": 219,
   "id": "bf1b13fa-d991-425d-96a0-a817a4a40029",
   "metadata": {},
   "outputs": [
    {
     "data": {
      "text/plain": [
       "Index(['FOM', 'ch1', 'ch1_d', 'ex1', 'ex1_d', 're1', 're1_d', 'ch2', 'ch2_d',\n",
       "       'ex2', 'ex2_d', 're2', 're2_d', 'ch3', 'ch3_d', 'ex3', 'ex3_d', 're3',\n",
       "       're3_d', 'ch4', 'ch4_d', 'ex4', 'ex4_d', 're4', 're4_d', 'ch5', 'ch5_d',\n",
       "       'ex5', 'ex5_d', 're5', 're5_d', 'ch6', 'ch6_d', 'ex6', 'ex6_d', 're6',\n",
       "       're6_d', 'real_ch', 'real_ch_d', 'real_ex', 'real_ex_d', 'real_re',\n",
       "       'real_re_d', 'isup_count', 'isdown_count', 'issame_count',\n",
       "       'isup_ratio_count', 'avg_upsell_amount', 'total_upsell_amount',\n",
       "       'upsell_count', 'Month', 'New Accounts', 'New ACV', 'Renew Accounts',\n",
       "       'Renew ACV', 'Upsell Accounts', 'Upsell ACV', 'Churn Accounts',\n",
       "       'Churn ACV', 'Cumulative Churn Accounts', 'Cumulative New Accounts',\n",
       "       'Cumulative Renew Accounts', 'Cumulative Churn ACV',\n",
       "       'Cumulative New ACV', 'Cumulative Renew ACV', 'Active Accounts',\n",
       "       'Active ACV', 'Churn Accounts Rate', 'New Accounts Rate',\n",
       "       'Churn ACV Rate', 'New ACV Rate', 'avg_upsell_rate', 'avg_upsell_d',\n",
       "       'avg_new_rate', 'avg_new_avc'],\n",
       "      dtype='object')"
      ]
     },
     "execution_count": 219,
     "metadata": {},
     "output_type": "execute_result"
    }
   ],
   "source": [
    "prj_acv=sum(results['Active Acv'])\n",
    "prj_churn_rate=avg(results['Churn Rate'])\n",
    "prj_lose_acv=results['Churn ACV'].sum()\n",
    "prj_up_acv=results['Expansion ACV'].sum()\n",
    "prj_active=last row of results['Active Accounts']\n",
    "\n",
    "\n",
    "\n",
    "df_proj=results[['Cumulative Renew Accounts','Cumulative New Accounts','Active Accounts','Cumulative Churn Accounts']]"
   ]
  },
  {
   "cell_type": "code",
   "execution_count": 159,
   "id": "c7659f2f-56c6-49e5-954c-919b8664b2c7",
   "metadata": {},
   "outputs": [
    {
     "data": {
      "image/png": "[encoded data removed]",
      "text/plain": [
       "<Figure size 1200x600 with 1 Axes>"
      ]
     },
     "metadata": {},
     "output_type": "display_data"
    }
   ],
   "source": [
    "import pandas as pd\n",
    "import matplotlib.pyplot as plt\n",
    "df0=df_all\n",
    "# Ensure FOM is datetime and sorted\n",
    "df0['FOM'] = pd.to_datetime(df0['FOM'])\n",
    "df0 = df0.sort_values(by='FOM')\n",
    "\n",
    "# Plotting\n",
    "plt.figure(figsize=(12, 6))\n",
    "df0['cc']=df0['Cumulative Renew Accounts']+df0['Cumulative New Accounts']\n",
    "# List of columns to plot\n",
    "columns_to_plot = [\n",
    "    'Cumulative New Accounts',\n",
    "    'cc',\n",
    "    'Active Accounts',\n",
    "    'Cumulative Churn Accounts'\n",
    "]\n",
    "\n",
    "# Plot each line\n",
    "for col in columns_to_plot:\n",
    "    plt.plot(df0['FOM'], df0[col], label=col)\n",
    "\n",
    "# Chart styling\n",
    "plt.title('Cumulative and Active Accounts Trends Over Time')\n",
    "plt.xlabel('FOM (First of Month)')\n",
    "plt.ylabel('ACV Value')\n",
    "plt.legend()\n",
    "plt.grid(True)\n",
    "plt.tight_layout()\n",
    "\n",
    "# Show the plot\n",
    "plt.show()\n"
   ]
  },
  {
   "cell_type": "code",
   "execution_count": 185,
   "id": "30f4cbff-a611-475e-b64e-64f45bfe1641",
   "metadata": {},
   "outputs": [
    {
     "data": {
      "text/plain": [
       "Index(['FOM', 'ch1', 'ch1_d', 'ex1', 'ex1_d', 're1', 're1_d', 'ch2', 'ch2_d',\n",
       "       'ex2', 'ex2_d', 're2', 're2_d', 'ch3', 'ch3_d', 'ex3', 'ex3_d', 're3',\n",
       "       're3_d', 'ch4', 'ch4_d', 'ex4', 'ex4_d', 're4', 're4_d', 'ch5', 'ch5_d',\n",
       "       'ex5', 'ex5_d', 're5', 're5_d', 'ch6', 'ch6_d', 'ex6', 'ex6_d', 're6',\n",
       "       're6_d', 'real_ch', 'real_ch_d', 'real_ex', 'real_ex_d', 'real_re',\n",
       "       'real_re_d', 'isup_count', 'isdown_count', 'issame_count',\n",
       "       'isup_ratio_count', 'avg_upsell_amount', 'total_upsell_amount',\n",
       "       'upsell_count', 'Month', 'New Accounts', 'New ACV', 'Renew Accounts',\n",
       "       'Renew ACV', 'Upsell Accounts', 'Upsell ACV', 'Churn Accounts',\n",
       "       'Churn ACV', 'Cumulative Churn Accounts', 'Cumulative New Accounts',\n",
       "       'Cumulative Renew Accounts', 'Cumulative Churn ACV',\n",
       "       'Cumulative New ACV', 'Cumulative Renew ACV', 'Active Accounts',\n",
       "       'Active ACV', 'Churn Accounts Rate', 'New Accounts Rate',\n",
       "       'Churn ACV Rate', 'New ACV Rate', 'avg_upsell_rate', 'avg_upsell_d',\n",
       "       'avg_new_rate'],\n",
       "      dtype='object')"
      ]
     },
     "execution_count": 185,
     "metadata": {},
     "output_type": "execute_result"
    }
   ],
   "source": [
    "df_sim.columns"
   ]
  },
  {
   "cell_type": "code",
   "execution_count": null,
   "id": "bb123836-2de3-4ec6-90d1-2cc32854b177",
   "metadata": {},
   "outputs": [],
   "source": []
  },
  {
   "cell_type": "code",
   "execution_count": 195,
   "id": "beb7e165-351a-492c-89fd-ee8c324740fa",
   "metadata": {},
   "outputs": [
    {
     "data": {
      "text/html": [
       "<div>\n",
       "<style scoped>\n",
       "    .dataframe tbody tr th:only-of-type {\n",
       "        vertical-align: middle;\n",
       "    }\n",
       "\n",
       "    .dataframe tbody tr th {\n",
       "        vertical-align: top;\n",
       "    }\n",
       "\n",
       "    .dataframe thead th {\n",
       "        text-align: right;\n",
       "    }\n",
       "</style>\n",
       "<table border=\"1\" class=\"dataframe\">\n",
       "  <thead>\n",
       "    <tr style=\"text-align: right;\">\n",
       "      <th></th>\n",
       "      <th>Month</th>\n",
       "      <th>Healthy &amp; Engaged</th>\n",
       "      <th>Upsell Potential</th>\n",
       "      <th>At Risk of Churn</th>\n",
       "      <th>New Accounts Est.</th>\n",
       "      <th>Active Accounts Est.</th>\n",
       "      <th>Cumulative Churn Accounts</th>\n",
       "      <th>Cumulative New Accounts</th>\n",
       "      <th>Cumulative Renew Accounts</th>\n",
       "      <th>avg_new_rate</th>\n",
       "    </tr>\n",
       "  </thead>\n",
       "  <tbody>\n",
       "    <tr>\n",
       "      <th>0</th>\n",
       "      <td>2024-02-01</td>\n",
       "      <td>9.0</td>\n",
       "      <td>1.0</td>\n",
       "      <td>20.0</td>\n",
       "      <td>8</td>\n",
       "      <td>371.0</td>\n",
       "      <td>439.0</td>\n",
       "      <td>688</td>\n",
       "      <td>9.0</td>\n",
       "      <td>0.02139</td>\n",
       "    </tr>\n",
       "    <tr>\n",
       "      <th>1</th>\n",
       "      <td>2024-03-01</td>\n",
       "      <td>10.0</td>\n",
       "      <td>1.0</td>\n",
       "      <td>27.0</td>\n",
       "      <td>8</td>\n",
       "      <td>365.0</td>\n",
       "      <td>466.0</td>\n",
       "      <td>696</td>\n",
       "      <td>19.0</td>\n",
       "      <td>0.02139</td>\n",
       "    </tr>\n",
       "    <tr>\n",
       "      <th>2</th>\n",
       "      <td>2024-04-01</td>\n",
       "      <td>8.0</td>\n",
       "      <td>4.0</td>\n",
       "      <td>24.0</td>\n",
       "      <td>8</td>\n",
       "      <td>366.0</td>\n",
       "      <td>490.0</td>\n",
       "      <td>704</td>\n",
       "      <td>27.0</td>\n",
       "      <td>0.02139</td>\n",
       "    </tr>\n",
       "    <tr>\n",
       "      <th>3</th>\n",
       "      <td>2024-05-01</td>\n",
       "      <td>9.0</td>\n",
       "      <td>0.0</td>\n",
       "      <td>23.0</td>\n",
       "      <td>8</td>\n",
       "      <td>368.0</td>\n",
       "      <td>513.0</td>\n",
       "      <td>712</td>\n",
       "      <td>36.0</td>\n",
       "      <td>0.02139</td>\n",
       "    </tr>\n",
       "    <tr>\n",
       "      <th>4</th>\n",
       "      <td>2024-06-01</td>\n",
       "      <td>13.0</td>\n",
       "      <td>2.0</td>\n",
       "      <td>26.0</td>\n",
       "      <td>8</td>\n",
       "      <td>369.0</td>\n",
       "      <td>539.0</td>\n",
       "      <td>720</td>\n",
       "      <td>49.0</td>\n",
       "      <td>0.02139</td>\n",
       "    </tr>\n",
       "    <tr>\n",
       "      <th>5</th>\n",
       "      <td>2024-07-01</td>\n",
       "      <td>13.0</td>\n",
       "      <td>5.0</td>\n",
       "      <td>27.0</td>\n",
       "      <td>8</td>\n",
       "      <td>368.0</td>\n",
       "      <td>566.0</td>\n",
       "      <td>728</td>\n",
       "      <td>62.0</td>\n",
       "      <td>0.02139</td>\n",
       "    </tr>\n",
       "  </tbody>\n",
       "</table>\n",
       "</div>"
      ],
      "text/plain": [
       "       Month  Healthy & Engaged  Upsell Potential  At Risk of Churn  \\\n",
       "0 2024-02-01                9.0               1.0              20.0   \n",
       "1 2024-03-01               10.0               1.0              27.0   \n",
       "2 2024-04-01                8.0               4.0              24.0   \n",
       "3 2024-05-01                9.0               0.0              23.0   \n",
       "4 2024-06-01               13.0               2.0              26.0   \n",
       "5 2024-07-01               13.0               5.0              27.0   \n",
       "\n",
       "   New Accounts Est.  Active Accounts Est.  Cumulative Churn Accounts  \\\n",
       "0                  8                 371.0                      439.0   \n",
       "1                  8                 365.0                      466.0   \n",
       "2                  8                 366.0                      490.0   \n",
       "3                  8                 368.0                      513.0   \n",
       "4                  8                 369.0                      539.0   \n",
       "5                  8                 368.0                      566.0   \n",
       "\n",
       "   Cumulative New Accounts  Cumulative Renew Accounts  avg_new_rate  \n",
       "0                      688                        9.0       0.02139  \n",
       "1                      696                       19.0       0.02139  \n",
       "2                      704                       27.0       0.02139  \n",
       "3                      712                       36.0       0.02139  \n",
       "4                      720                       49.0       0.02139  \n",
       "5                      728                       62.0       0.02139  "
      ]
     },
     "execution_count": 195,
     "metadata": {},
     "output_type": "execute_result"
    }
   ],
   "source": [
    "import pandas as pd\n",
    "\n",
    "# Load simulation data\n",
    "df_sim = df_all.copy()\n",
    "df_sim['Month'] = pd.to_datetime(df_sim['Month'])\n",
    "\n",
    "# Define the 6-month projection function\n",
    "def calculate_6_month_projection(start_month):\n",
    "    start_month = pd.to_datetime(start_month)\n",
    "    \n",
    "    # Get the row for the selected FOM\n",
    "    row = df_sim[df_sim['Month'] == start_month]\n",
    "    if row.empty:\n",
    "        print(\"No data for selected month.\")\n",
    "        return pd.DataFrame()\n",
    "    \n",
    "    row = row.iloc[0]\n",
    "\n",
    "    # Prepare base values\n",
    "    active = row.get('Active Accounts', 0)\n",
    "    avg_new_rate = row.get('New Accounts Rate', 0)\n",
    "\n",
    "    records = []\n",
    "    cum_churn = row.get('Cumulative Churn Accounts', 0)\n",
    "    cum_new =  row.get('Cumulative New Accounts', 0)\n",
    "    cum_renew =  row.get('Cumulative Renew Account', 0)\n",
    "\n",
    "    for i in range(1, 7):\n",
    "        ch = row.get(f'ch{i}', 0)\n",
    "        ex = row.get(f'ex{i}', 0)\n",
    "        re = row.get(f're{i}', 0)\n",
    "        new_actual = row.get('New Accounts', 0)\n",
    "\n",
    "        healthy_engaged = re + ex \n",
    "        upsell_potential = ex\n",
    "        at_risk = ch\n",
    "\n",
    "        new1 = round(avg_new_rate*(active + re + ex - ch) / (1 - avg_new_rate)) if (1 - avg_new_rate) != 0 else 0\n",
    "        active_calc = active + re + ex - ch + new1\n",
    "\n",
    "        cum_churn += ch\n",
    "        cum_new += new1\n",
    "        cum_renew += re+ex\n",
    "\n",
    "        record = {\n",
    "            'Month': start_month + pd.DateOffset(months=i),\n",
    "            'Healthy & Engaged': healthy_engaged,\n",
    "            'Upsell Potential': upsell_potential,\n",
    "            'At Risk of Churn': at_risk,\n",
    "            'New Accounts Est.': new1,\n",
    "            'Active Accounts Est.': active_calc,\n",
    "            'Cumulative Churn Accounts': cum_churn,\n",
    "            'Cumulative New Accounts': cum_new,\n",
    "            'Cumulative Renew Accounts': cum_renew,\n",
    "            'avg_new_rate':avg_new_rate\n",
    "        }\n",
    "\n",
    "        records.append(record)\n",
    "\n",
    "    return pd.DataFrame(records)\n",
    "\n",
    "# Example usage\n",
    "result = calculate_6_month_projection('2024-01-01')\n",
    "result"
   ]
  },
  {
   "cell_type": "code",
   "execution_count": 207,
   "id": "0c99ddf5-30e1-43bc-98ff-236f6b05b844",
   "metadata": {},
   "outputs": [
    {
     "data": {
      "text/plain": [
       "Index(['Month', 'Healthy & Engaged', 'Upsell Potential', 'At Risk of Churn',\n",
       "       'New Accounts Est.', 'Active Accounts Est.',\n",
       "       'Cumulative Churn Accounts', 'Cumulative New Accounts',\n",
       "       'Cumulative Renew Accounts', 'Churn ACV', 'Expansion ACV',\n",
       "       'Renewal ACV', 'Cumulative Churn ACV', 'Cumulative Expansion ACV',\n",
       "       'Cumulative Renewal ACV'],\n",
       "      dtype='object')"
      ]
     },
     "execution_count": 207,
     "metadata": {},
     "output_type": "execute_result"
    }
   ],
   "source": [
    "result.columns"
   ]
  },
  {
   "cell_type": "code",
   "execution_count": null,
   "id": "13fb3114-a63d-4f62-bc90-882da97763b6",
   "metadata": {},
   "outputs": [],
   "source": [
    "Future Projection & Trend Analysis\t\n",
    "Projected ARR (Next 6 months) \t$XXM\n",
    "Projected Churn Impact \tIf churn continues at X%, ARR lose will be $YYM\n",
    "Expected Upsell Growth\tPotential revenue increase of $ZZM\n",
    "Customer Growth Forecast \tProjected active customers in next 6 months: XXXX\n"
   ]
  },
  {
   "cell_type": "code",
   "execution_count": null,
   "id": "b67ded30-93cb-4de1-8eda-0fa7167196dc",
   "metadata": {},
   "outputs": [],
   "source": [
    "s"
   ]
  },
  {
   "cell_type": "code",
   "execution_count": 75,
   "id": "e3843646-6d6e-486e-a9e5-854d2edfdfa0",
   "metadata": {
    "scrolled": true
   },
   "outputs": [
    {
     "name": "stdout",
     "output_type": "stream",
     "text": [
      "(83, 64)\n"
     ]
    }
   ],
   "source": [
    "import pandas as pd\n",
    "\n",
    "# Load your CSV data\n",
    "df = pd.read_csv('data/5_model_final_score_dashboard_data.csv')\n",
    "\n",
    "# Filter MOC\n",
    "target_mocs = [11, 10, 9, 8, 7, 6]\n",
    "df_filtered = df[df['MOC'].isin(target_mocs)].copy()\n",
    "\n",
    "# Lowercase for consistency\n",
    "df_filtered['stage'] = df_filtered['stage'].str.lower()\n",
    "df['final_status'] = df['final_status'].str.lower()\n",
    "\n",
    "# First block: stage-based (risky/expansion/renewal) counts & ACV per MOC 11→6\n",
    "grouped = df_filtered.groupby('FOM')\n",
    "records = []\n",
    "\n",
    "for fom, group in grouped:\n",
    "    row = {'FOM': fom}\n",
    "    for i, moc in enumerate(target_mocs, start=1):\n",
    "        sub = group[group['MOC'] == moc]\n",
    "        for status, prefix in zip(['risky', 'expansion', 'renewal'], ['ch', 'ex', 're']):\n",
    "            count = sub[sub['stage'] == status].shape[0]\n",
    "            acv_sum = sub[sub['stage'] == status]['contract_acv'].sum()\n",
    "            row[f'{prefix}{i}'] = count\n",
    "            row[f'{prefix}{i}_d'] = acv_sum\n",
    "    records.append(row)\n",
    "\n",
    "dff = pd.DataFrame(records)\n",
    "dff['FOM'] = pd.to_datetime(dff['FOM'])\n",
    "\n",
    "# Second block: final_status-based real churn/expansion/renewal for all contracts\n",
    "records_real = []\n",
    "grouped_all = df.groupby('FOM')\n",
    "\n",
    "for fom, group in grouped_all:\n",
    "    row = {'FOM': fom}\n",
    "    for status, prefix in zip(['renewal', 'risky', 'expansion'], ['real_ch', 'real_ex', 'real_re']):\n",
    "        count = group[group['final_status'] == status].shape[0]\n",
    "        acv_sum = group[group['final_status'] == status]['contract_acv'].sum()\n",
    "        row[f'{prefix}'] = count\n",
    "        row[f'{prefix}_d'] = acv_sum\n",
    "    records_real.append(row)\n",
    "\n",
    "df_r = pd.DataFrame(records_real)\n",
    "df_r['FOM'] = pd.to_datetime(df_r['FOM'])\n",
    "\n",
    "# Merge both blocks\n",
    "df_m = dff.merge(df_r, on='FOM', how='left')\n",
    "\n",
    "# Load simulation file\n",
    "df_contract = pd.read_excel('data/0_sim_monthly_contract.xlsx')\n",
    "df_contract['Month'] = pd.to_datetime(df_contract['Month'])\n",
    "\n",
    "# Final merge with simulation file\n",
    "df_final_merged = df_contract.merge(df_m, left_on='Month', right_on='FOM', how='left')\n",
    "#df_final_merged.drop(columns='FOM', inplace=True)\n",
    "\n",
    "# Show final shape\n",
    "print(df_final_merged.shape)\n",
    "\n",
    "# Optional: save to CSV\n",
    "# df_final_merged.to_csv(\"final_merged_output.csv\", index=False)\n",
    "\n",
    "import pandas as pd\n",
    "\n",
    "# Load contract data\n",
    "df_contracts = pd.read_excel(\"data/0_sim_contract.xlsx\")\n",
    "\n",
    "# Convert contract_end_date to datetime and extract FOM\n",
    "df_contracts['contract_end_date'] = pd.to_datetime(df_contracts['contract_end_date'])\n",
    "df_contracts['FOM'] = df_contracts['contract_end_date'].dt.to_period('M').dt.to_timestamp()\n",
    "\n",
    "# --- Upsell Metrics ---\n",
    "df_upsell = df_contracts[df_contracts['isup'] == True].copy()\n",
    "\n",
    "df_upsell_summary = df_upsell.groupby('FOM').agg(\n",
    "    avg_upsell_amount=('next_contract_value_change', 'mean'),\n",
    "    total_upsell_amount=('next_contract_value_change', 'sum'),\n",
    "    upsell_count=('next_contract_value_change', 'count')\n",
    ").reset_index()\n",
    "\n",
    "# --- Count-based Summary (isup, isdown, issame) ---\n",
    "df_summary = df_contracts.groupby('FOM').agg(\n",
    "    isup_count=('isup', 'sum'),\n",
    "    isdown_count=('isdown', 'sum'),\n",
    "    issame_count=('issame', 'sum')\n",
    ").reset_index()\n",
    "\n",
    "# Calculate count-based upsell ratio\n",
    "df_summary['isup_ratio_count'] = df_summary['isup_count'] / (\n",
    "    df_summary['isup_count'] + df_summary['isdown_count'] + df_summary['issame_count']\n",
    ")\n",
    "\n",
    "# --- Merge upsell metrics with count summary ---\n",
    "df_combined = df_summary.merge(df_upsell_summary, on='FOM', how='left')\n",
    "\n",
    "# Optional: fill missing upsell data with 0\n",
    "df_combined[['avg_upsell_amount', 'total_upsell_amount', 'upsell_count']] = \\\n",
    "    df_combined[['avg_upsell_amount', 'total_upsell_amount', 'upsell_count']].fillna(0)\n",
    "\n",
    "df_combined.head()\n",
    "dff= df_combined.merge(df_final_merged, on='FOM', how='left')\n",
    "dff['avg_upsell_rate'] = dff['isup_ratio_count'].rolling(window=3).mean()\n",
    "dff['avg_upsell_d'] = dff['avg_upsell_amount'].rolling(window=3).mean()\n",
    "dff['avg_new_rate'] = dff['New Accounts Rate'].rolling(window=3).mean()\n"
   ]
  },
  {
   "cell_type": "code",
   "execution_count": 131,
   "id": "3cae0181-a7ae-48a0-83a0-6fdf4985b648",
   "metadata": {},
   "outputs": [
    {
     "data": {
      "text/plain": [
       "((83, 21), Timestamp('2020-01-01 00:00:00'), (77, 43), (83, 67))"
      ]
     },
     "execution_count": 131,
     "metadata": {},
     "output_type": "execute_result"
    }
   ],
   "source": [
    "df_contract.shape, df_contract['Month'].min(), df_m.shape, df_final_merged.shape"
   ]
  },
  {
   "cell_type": "code",
   "execution_count": 105,
   "id": "13d3e2ed-3fa3-4521-b737-ffb6f1cf22f8",
   "metadata": {},
   "outputs": [
    {
     "data": {
      "text/plain": [
       "Index(['Month', 'New Accounts', 'New ACV', 'Renew Accounts', 'Renew ACV',\n",
       "       'Upsell Accounts', 'Upsell ACV', 'Churn Accounts', 'Churn ACV',\n",
       "       'Cumulative Churn Accounts', 'Cumulative New Accounts',\n",
       "       'Cumulative Renew Accounts', 'Cumulative Churn ACV',\n",
       "       'Cumulative New ACV', 'Cumulative Renew ACV', 'Active Accounts',\n",
       "       'Active ACV', 'Churn Accounts Rate', 'New Accounts Rate',\n",
       "       'Churn ACV Rate', 'New ACV Rate', 'ch1', 'ch1_d', 'ex1', 'ex1_d', 're1',\n",
       "       're1_d', 'ch2', 'ch2_d', 'ex2', 'ex2_d', 're2', 're2_d', 'ch3', 'ch3_d',\n",
       "       'ex3', 'ex3_d', 're3', 're3_d', 'ch4', 'ch4_d', 'ex4', 'ex4_d', 're4',\n",
       "       're4_d', 'ch5', 'ch5_d', 'ex5', 'ex5_d', 're5', 're5_d', 'ch6', 'ch6_d',\n",
       "       'ex6', 'ex6_d', 're6', 're6_d', 'real_ch', 'real_ch_d', 'real_ex',\n",
       "       'real_ex_d', 'real_re', 'real_re_d', 'real_ex_pct', 'real_ex_d_pct'],\n",
       "      dtype='object')"
      ]
     },
     "execution_count": 105,
     "metadata": {},
     "output_type": "execute_result"
    }
   ],
   "source": [
    "a=pd.read_csv('data/5_stage_simulation.csv')\n",
    "a.columns"
   ]
  },
  {
   "cell_type": "code",
   "execution_count": 121,
   "id": "06062378-e5b4-4aa5-a38c-3b4771487900",
   "metadata": {},
   "outputs": [
    {
     "data": {
      "text/plain": [
       "('2020-01-01', (83, 65))"
      ]
     },
     "execution_count": 121,
     "metadata": {},
     "output_type": "execute_result"
    }
   ],
   "source": [
    "a['Month'].min(), a.shape"
   ]
  },
  {
   "cell_type": "code",
   "execution_count": 99,
   "id": "af554b8d-2550-47b9-96d1-2f0b322ef6f5",
   "metadata": {},
   "outputs": [
    {
     "data": {
      "text/plain": [
       "Index(['Month', 'New Accounts', 'New ACV', 'Renew Accounts', 'Renew ACV',\n",
       "       'Upsell Accounts', 'Upsell ACV', 'Churn Accounts', 'Churn ACV',\n",
       "       'Cumulative Churn Accounts', 'Cumulative New Accounts',\n",
       "       'Cumulative Renew Accounts', 'Cumulative Churn ACV',\n",
       "       'Cumulative New ACV', 'Cumulative Renew ACV', 'Active Accounts',\n",
       "       'Active ACV', 'Churn Accounts Rate', 'New Accounts Rate',\n",
       "       'Churn ACV Rate', 'New ACV Rate'],\n",
       "      dtype='object')"
      ]
     },
     "execution_count": 99,
     "metadata": {},
     "output_type": "execute_result"
    }
   ],
   "source": [
    "df_contract.columns"
   ]
  },
  {
   "cell_type": "code",
   "execution_count": 71,
   "id": "19dad1c7-d567-40d7-a732-1123c54bbd5a",
   "metadata": {},
   "outputs": [],
   "source": [
    "df_contract['FOM'] =df_contract['Month']"
   ]
  },
  {
   "cell_type": "code",
   "execution_count": 77,
   "id": "b5c16a35-0a47-4dc1-82d5-ec207c442140",
   "metadata": {},
   "outputs": [],
   "source": [
    "import pandas as pd\n",
    "\n",
    "# Assuming df_final_merged is your merged dataframe\n",
    "# If not already loaded:\n",
    "# df_final_merged = pd.read_csv(\"final_merged_output.csv\")\n",
    "\n",
    "# Calculate percentage of real expansions out of real expansions + real renewals\n",
    "df_final_merged['real_ex_pct'] = df_final_merged['real_ex'] / (\n",
    "    df_final_merged['real_ex'] + df_final_merged['real_re']\n",
    ")\n",
    "\n",
    "# Calculate percentage of ACV from expansions out of total expansion + renewal ACV\n",
    "df_final_merged['real_ex_d_pct'] = df_final_merged['real_ex_d'] / (\n",
    "    df_final_merged['real_ex_d'] + df_final_merged['real_re_d']\n",
    ")\n",
    "\n",
    "# Calculate new customer acquisition rate (count)\n",
    "#df_final_merged['new_account_rate'] = df_final_merged['New Accounts'] / df_final_merged['Active Accounts']\n",
    "\n",
    "# Calculate new customer acquisition rate (ACV)\n",
    "#df_final_merged['new_acv_rate'] = df_final_merged['New ACV'] / df_final_merged['Active ACV']\n",
    "\n",
    "# Calculate 3-month rolling average of new_account_rate\n",
    "df_final_merged['avg_new_rate'] = df_final_merged['New Accounts Rate'].rolling(window=3).mean()\n"
   ]
  },
  {
   "cell_type": "code",
   "execution_count": 79,
   "id": "c4ffa7cc-cc54-49e8-bf97-2ad40c4291a7",
   "metadata": {},
   "outputs": [
    {
     "data": {
      "text/html": [
       "<div>\n",
       "<style scoped>\n",
       "    .dataframe tbody tr th:only-of-type {\n",
       "        vertical-align: middle;\n",
       "    }\n",
       "\n",
       "    .dataframe tbody tr th {\n",
       "        vertical-align: top;\n",
       "    }\n",
       "\n",
       "    .dataframe thead th {\n",
       "        text-align: right;\n",
       "    }\n",
       "</style>\n",
       "<table border=\"1\" class=\"dataframe\">\n",
       "  <thead>\n",
       "    <tr style=\"text-align: right;\">\n",
       "      <th></th>\n",
       "      <th>FOM</th>\n",
       "      <th>isup_count</th>\n",
       "      <th>isdown_count</th>\n",
       "      <th>issame_count</th>\n",
       "      <th>isup_ratio_count</th>\n",
       "      <th>avg_upsell_amount</th>\n",
       "      <th>total_upsell_amount</th>\n",
       "      <th>upsell_count</th>\n",
       "    </tr>\n",
       "  </thead>\n",
       "  <tbody>\n",
       "    <tr>\n",
       "      <th>0</th>\n",
       "      <td>2020-12-01</td>\n",
       "      <td>2</td>\n",
       "      <td>2</td>\n",
       "      <td>6</td>\n",
       "      <td>0.200000</td>\n",
       "      <td>37850.0</td>\n",
       "      <td>75700.0</td>\n",
       "      <td>2.0</td>\n",
       "    </tr>\n",
       "    <tr>\n",
       "      <th>1</th>\n",
       "      <td>2021-01-01</td>\n",
       "      <td>2</td>\n",
       "      <td>1</td>\n",
       "      <td>6</td>\n",
       "      <td>0.222222</td>\n",
       "      <td>15175.0</td>\n",
       "      <td>30350.0</td>\n",
       "      <td>2.0</td>\n",
       "    </tr>\n",
       "    <tr>\n",
       "      <th>2</th>\n",
       "      <td>2021-02-01</td>\n",
       "      <td>4</td>\n",
       "      <td>2</td>\n",
       "      <td>3</td>\n",
       "      <td>0.444444</td>\n",
       "      <td>27812.5</td>\n",
       "      <td>111250.0</td>\n",
       "      <td>4.0</td>\n",
       "    </tr>\n",
       "    <tr>\n",
       "      <th>3</th>\n",
       "      <td>2021-03-01</td>\n",
       "      <td>0</td>\n",
       "      <td>0</td>\n",
       "      <td>6</td>\n",
       "      <td>0.000000</td>\n",
       "      <td>0.0</td>\n",
       "      <td>0.0</td>\n",
       "      <td>0.0</td>\n",
       "    </tr>\n",
       "    <tr>\n",
       "      <th>4</th>\n",
       "      <td>2021-04-01</td>\n",
       "      <td>1</td>\n",
       "      <td>1</td>\n",
       "      <td>4</td>\n",
       "      <td>0.166667</td>\n",
       "      <td>3950.0</td>\n",
       "      <td>3950.0</td>\n",
       "      <td>1.0</td>\n",
       "    </tr>\n",
       "  </tbody>\n",
       "</table>\n",
       "</div>"
      ],
      "text/plain": [
       "         FOM  isup_count  isdown_count  issame_count  isup_ratio_count  \\\n",
       "0 2020-12-01           2             2             6          0.200000   \n",
       "1 2021-01-01           2             1             6          0.222222   \n",
       "2 2021-02-01           4             2             3          0.444444   \n",
       "3 2021-03-01           0             0             6          0.000000   \n",
       "4 2021-04-01           1             1             4          0.166667   \n",
       "\n",
       "   avg_upsell_amount  total_upsell_amount  upsell_count  \n",
       "0            37850.0              75700.0           2.0  \n",
       "1            15175.0              30350.0           2.0  \n",
       "2            27812.5             111250.0           4.0  \n",
       "3                0.0                  0.0           0.0  \n",
       "4             3950.0               3950.0           1.0  "
      ]
     },
     "execution_count": 79,
     "metadata": {},
     "output_type": "execute_result"
    }
   ],
   "source": [
    "import pandas as pd\n",
    "\n",
    "# Load contract data\n",
    "df_contracts = pd.read_excel(\"data/0_sim_contract.xlsx\")\n",
    "\n",
    "# Convert contract_end_date to datetime and extract FOM\n",
    "df_contracts['contract_end_date'] = pd.to_datetime(df_contracts['contract_end_date'])\n",
    "df_contracts['FOM'] = df_contracts['contract_end_date'].dt.to_period('M').dt.to_timestamp()\n",
    "\n",
    "# --- Upsell Metrics ---\n",
    "df_upsell = df_contracts[df_contracts['isup'] == True].copy()\n",
    "\n",
    "df_upsell_summary = df_upsell.groupby('FOM').agg(\n",
    "    avg_upsell_amount=('next_contract_value_change', 'mean'),\n",
    "    total_upsell_amount=('next_contract_value_change', 'sum'),\n",
    "    upsell_count=('next_contract_value_change', 'count')\n",
    ").reset_index()\n",
    "\n",
    "# --- Count-based Summary (isup, isdown, issame) ---\n",
    "df_summary = df_contracts.groupby('FOM').agg(\n",
    "    isup_count=('isup', 'sum'),\n",
    "    isdown_count=('isdown', 'sum'),\n",
    "    issame_count=('issame', 'sum')\n",
    ").reset_index()\n",
    "\n",
    "# Calculate count-based upsell ratio\n",
    "df_summary['isup_ratio_count'] = df_summary['isup_count'] / (\n",
    "    df_summary['isup_count'] + df_summary['isdown_count'] + df_summary['issame_count']\n",
    ")\n",
    "\n",
    "# --- Merge upsell metrics with count summary ---\n",
    "df_combined = df_summary.merge(df_upsell_summary, on='FOM', how='left')\n",
    "\n",
    "# Optional: fill missing upsell data with 0\n",
    "df_combined[['avg_upsell_amount', 'total_upsell_amount', 'upsell_count']] = \\\n",
    "    df_combined[['avg_upsell_amount', 'total_upsell_amount', 'upsell_count']].fillna(0)\n",
    "\n",
    "df_combined.head()\n"
   ]
  },
  {
   "cell_type": "code",
   "execution_count": 81,
   "id": "ed987039-ed98-46dc-a892-6ab5172b4dc2",
   "metadata": {},
   "outputs": [],
   "source": [
    "dff= df_combined.merge(df_final_merged, on='FOM', how='left')"
   ]
  },
  {
   "cell_type": "code",
   "execution_count": 87,
   "id": "4efbf338-4b34-411f-9e85-33cc0dca28fe",
   "metadata": {},
   "outputs": [],
   "source": [
    "dff= df_combined.merge(df_final_merged, on='FOM', how='left')\n",
    "dff['avg_upsell_rate'] = dff['isup_ratio_count'].rolling(window=3).mean()\n",
    "dff['avg_upsell_d'] = dff['avg_upsell_amount'].rolling(window=3).mean()\n",
    "dff['avg_new_rate'] = dff['New Accounts Rate'].rolling(window=3).mean()"
   ]
  },
  {
   "cell_type": "code",
   "execution_count": 83,
   "id": "957981d5-9f4d-45dc-9bd3-e83f03852bc2",
   "metadata": {},
   "outputs": [
    {
     "data": {
      "text/plain": [
       "(72, 74)"
      ]
     },
     "execution_count": 83,
     "metadata": {},
     "output_type": "execute_result"
    }
   ],
   "source": [
    "dff.shape"
   ]
  },
  {
   "cell_type": "code",
   "execution_count": 89,
   "id": "725087da-de07-42a0-8c12-a63ce02b7ec3",
   "metadata": {},
   "outputs": [
    {
     "data": {
      "text/plain": [
       "Index(['FOM', 'isup_count', 'isdown_count', 'issame_count', 'isup_ratio_count',\n",
       "       'avg_upsell_amount', 'total_upsell_amount', 'upsell_count', 'Month',\n",
       "       'New Accounts', 'New ACV', 'Renew Accounts', 'Renew ACV',\n",
       "       'Upsell Accounts', 'Upsell ACV', 'Churn Accounts', 'Churn ACV',\n",
       "       'Cumulative Churn Accounts', 'Cumulative New Accounts',\n",
       "       'Cumulative Renew Accounts', 'Cumulative Churn ACV',\n",
       "       'Cumulative New ACV', 'Cumulative Renew ACV', 'Active Accounts',\n",
       "       'Active ACV', 'Churn Accounts Rate', 'New Accounts Rate',\n",
       "       'Churn ACV Rate', 'New ACV Rate', 'ch1', 'ch1_d', 'ex1', 'ex1_d', 're1',\n",
       "       're1_d', 'ch2', 'ch2_d', 'ex2', 'ex2_d', 're2', 're2_d', 'ch3', 'ch3_d',\n",
       "       'ex3', 'ex3_d', 're3', 're3_d', 'ch4', 'ch4_d', 'ex4', 'ex4_d', 're4',\n",
       "       're4_d', 'ch5', 'ch5_d', 'ex5', 'ex5_d', 're5', 're5_d', 'ch6', 'ch6_d',\n",
       "       'ex6', 'ex6_d', 're6', 're6_d', 'real_ch', 'real_ch_d', 'real_ex',\n",
       "       'real_ex_d', 'real_re', 'real_re_d', 'real_ex_pct', 'real_ex_d_pct',\n",
       "       'avg_new_rate', 'avg_upsell_rate', 'avg_upsell_d'],\n",
       "      dtype='object')"
      ]
     },
     "execution_count": 89,
     "metadata": {},
     "output_type": "execute_result"
    }
   ],
   "source": [
    "dff.columns"
   ]
  },
  {
   "cell_type": "code",
   "execution_count": 91,
   "id": "7349e7e4-f110-4cc6-ba85-c40a87646c57",
   "metadata": {},
   "outputs": [],
   "source": [
    "df0=dff[['FOM','New Accounts', 'New ACV', 'Renew Accounts', 'Renew ACV',\n",
    "       'Upsell Accounts', 'Upsell ACV', 'Churn Accounts', 'Churn ACV',\n",
    "       'Cumulative Churn Accounts', 'Cumulative New Accounts',\n",
    "       'Cumulative Renew Accounts', 'Cumulative Churn ACV',\n",
    "       'Cumulative New ACV', 'Cumulative Renew ACV', 'Active Accounts',\n",
    "       'Active ACV', 'Churn Accounts Rate', 'New Accounts Rate',\n",
    "       'Churn ACV Rate', 'New ACV Rate','avg_new_rate', 'avg_upsell_rate', 'avg_upsell_d','ch1', 'ch1_d', 'ex1', 'ex1_d', 're1',\n",
    "       're1_d', 'ch2', 'ch2_d', 'ex2', 'ex2_d', 're2', 're2_d', 'ch3', 'ch3_d',\n",
    "       'ex3', 'ex3_d', 're3', 're3_d', 'ch4', 'ch4_d', 'ex4', 'ex4_d', 're4',\n",
    "       're4_d', 'ch5', 'ch5_d', 'ex5', 'ex5_d', 're5', 're5_d', 'ch6', 'ch6_d',\n",
    "       'ex6', 'ex6_d', 're6', 're6_d']]"
   ]
  },
  {
   "cell_type": "code",
   "execution_count": 107,
   "id": "cb99619d-0afa-4e7f-8824-8b8c705184df",
   "metadata": {},
   "outputs": [
    {
     "data": {
      "text/plain": [
       "Timestamp('2020-12-01 00:00:00')"
      ]
     },
     "execution_count": 107,
     "metadata": {},
     "output_type": "execute_result"
    }
   ],
   "source": [
    "df0['FOM'].min()"
   ]
  },
  {
   "cell_type": "code",
   "execution_count": 97,
   "id": "afbc4bcf-c7d1-4386-9831-854fed699290",
   "metadata": {},
   "outputs": [
    {
     "data": {
      "image/png": "[encoded data removed]",
      "text/plain": [
       "<Figure size 1200x600 with 1 Axes>"
      ]
     },
     "metadata": {},
     "output_type": "display_data"
    }
   ],
   "source": [
    "import pandas as pd\n",
    "import matplotlib.pyplot as plt\n",
    "\n",
    "# Ensure FOM is datetime and sorted\n",
    "df0['FOM'] = pd.to_datetime(df0['FOM'])\n",
    "df0 = df0.sort_values(by='FOM')\n",
    "\n",
    "# Plotting\n",
    "plt.figure(figsize=(12, 6))\n",
    "\n",
    "# List of columns to plot\n",
    "columns_to_plot = [\n",
    "    'Cumulative New Accounts',\n",
    "    'Cumulative Renew Accounts',\n",
    "    'Active Accounts',\n",
    "    'Churn Accounts'\n",
    "]\n",
    "\n",
    "# Plot each line\n",
    "for col in columns_to_plot:\n",
    "    plt.plot(df0['FOM'], df0[col], label=col)\n",
    "\n",
    "# Chart styling\n",
    "plt.title('Cumulative and Active Accounts Trends Over Time')\n",
    "plt.xlabel('FOM (First of Month)')\n",
    "plt.ylabel('ACV Value')\n",
    "plt.legend()\n",
    "plt.grid(True)\n",
    "plt.tight_layout()\n",
    "\n",
    "# Show the plot\n",
    "plt.show()\n"
   ]
  },
  {
   "cell_type": "code",
   "execution_count": 93,
   "id": "294b2ac0-276e-461b-bbae-9182b9975a7d",
   "metadata": {},
   "outputs": [
    {
     "name": "stderr",
     "output_type": "stream",
     "text": [
      "C:\\Users\\samir\\AppData\\Local\\Temp\\ipykernel_43084\\3456824637.py:5: SettingWithCopyWarning: \n",
      "A value is trying to be set on a copy of a slice from a DataFrame.\n",
      "Try using .loc[row_indexer,col_indexer] = value instead\n",
      "\n",
      "See the caveats in the documentation: https://pandas.pydata.org/pandas-docs/stable/user_guide/indexing.html#returning-a-view-versus-a-copy\n",
      "  df0['FOM'] = pd.to_datetime(df0['FOM'])\n"
     ]
    },
    {
     "data": {
      "image/png": "[encoded data removed]",
      "text/plain": [
       "<Figure size 1200x600 with 1 Axes>"
      ]
     },
     "metadata": {},
     "output_type": "display_data"
    }
   ],
   "source": [
    "import pandas as pd\n",
    "import matplotlib.pyplot as plt\n",
    "\n",
    "# Ensure FOM is datetime and sorted\n",
    "df0['FOM'] = pd.to_datetime(df0['FOM'])\n",
    "df0 = df0.sort_values(by='FOM')\n",
    "\n",
    "# Plotting\n",
    "plt.figure(figsize=(12, 6))\n",
    "\n",
    "# List of columns to plot\n",
    "columns_to_plot = [\n",
    "    'Cumulative New ACV',\n",
    "    'Cumulative Renew ACV',\n",
    "    'Active ACV',\n",
    "    'Cumulative Churn ACV'\n",
    "]\n",
    "\n",
    "# Plot each line\n",
    "for col in columns_to_plot:\n",
    "    plt.plot(df0['FOM'], df0[col], label=col)\n",
    "\n",
    "# Chart styling\n",
    "plt.title('Cumulative and Active ACV Trends Over Time')\n",
    "plt.xlabel('FOM (First of Month)')\n",
    "plt.ylabel('ACV Value')\n",
    "plt.legend()\n",
    "plt.grid(True)\n",
    "plt.tight_layout()\n",
    "\n",
    "# Show the plot\n",
    "plt.show()\n"
   ]
  },
  {
   "cell_type": "code",
   "execution_count": null,
   "id": "137ac1c8-8fd7-4035-826d-934fdecb7d2e",
   "metadata": {},
   "outputs": [],
   "source": []
  },
  {
   "cell_type": "code",
   "execution_count": null,
   "id": "84708faa-1180-445a-a6ec-ec3c41c3c048",
   "metadata": {},
   "outputs": [],
   "source": [
    "design a figure to show the df0[ Cumulative New ACV, Cumulative Renew ACV,'Active ACV', 'Cumulative Churn ACV'] based on df0['FOM']"
   ]
  },
  {
   "cell_type": "code",
   "execution_count": null,
   "id": "1b960bc5-3d93-43d6-b423-e780fb3f9792",
   "metadata": {},
   "outputs": [],
   "source": [
    "for FOM we need to create 6 rows: Cumulative New ACV, Cumulative Renew ACV,'Active ACV'\n",
    "for "
   ]
  },
  {
   "cell_type": "code",
   "execution_count": 23,
   "id": "436bb1bb-7425-453c-a2a9-036c45de89af",
   "metadata": {},
   "outputs": [
    {
     "name": "stderr",
     "output_type": "stream",
     "text": [
      "C:\\Users\\samir\\AppData\\Local\\Temp\\ipykernel_43084\\1062393939.py:26: DeprecationWarning: DataFrameGroupBy.apply operated on the grouping columns. This behavior is deprecated, and in a future version of pandas the grouping columns will be excluded from the operation. Either pass `include_groups=False` to exclude the groupings or explicitly select the grouping columns after groupby to silence this warning.\n",
      "  summary = df_moc12.groupby('FOM').apply(summarize_group).reset_index()\n"
     ]
    },
    {
     "data": {
      "text/html": [
       "<div>\n",
       "<style scoped>\n",
       "    .dataframe tbody tr th:only-of-type {\n",
       "        vertical-align: middle;\n",
       "    }\n",
       "\n",
       "    .dataframe tbody tr th {\n",
       "        vertical-align: top;\n",
       "    }\n",
       "\n",
       "    .dataframe thead th {\n",
       "        text-align: right;\n",
       "    }\n",
       "</style>\n",
       "<table border=\"1\" class=\"dataframe\">\n",
       "  <thead>\n",
       "    <tr style=\"text-align: right;\">\n",
       "      <th></th>\n",
       "      <th>FOM</th>\n",
       "      <th>expansion_count</th>\n",
       "      <th>expansion_acv</th>\n",
       "      <th>renewal_count</th>\n",
       "      <th>renewal_acv</th>\n",
       "      <th>avg_pct_increase</th>\n",
       "      <th>expansion_ratio</th>\n",
       "    </tr>\n",
       "  </thead>\n",
       "  <tbody>\n",
       "    <tr>\n",
       "      <th>18</th>\n",
       "      <td>2020-12-01</td>\n",
       "      <td>2.0</td>\n",
       "      <td>147300.0</td>\n",
       "      <td>8.0</td>\n",
       "      <td>447750.0</td>\n",
       "      <td>0.0</td>\n",
       "      <td>0.247542</td>\n",
       "    </tr>\n",
       "    <tr>\n",
       "      <th>0</th>\n",
       "      <td>2021-01-01</td>\n",
       "      <td>2.0</td>\n",
       "      <td>120000.0</td>\n",
       "      <td>7.0</td>\n",
       "      <td>370300.0</td>\n",
       "      <td>0.0</td>\n",
       "      <td>0.244748</td>\n",
       "    </tr>\n",
       "    <tr>\n",
       "      <th>24</th>\n",
       "      <td>2021-02-01</td>\n",
       "      <td>4.0</td>\n",
       "      <td>276200.0</td>\n",
       "      <td>5.0</td>\n",
       "      <td>252400.0</td>\n",
       "      <td>0.0</td>\n",
       "      <td>0.522512</td>\n",
       "    </tr>\n",
       "    <tr>\n",
       "      <th>30</th>\n",
       "      <td>2021-03-01</td>\n",
       "      <td>0.0</td>\n",
       "      <td>0.0</td>\n",
       "      <td>6.0</td>\n",
       "      <td>242000.0</td>\n",
       "      <td>NaN</td>\n",
       "      <td>0.000000</td>\n",
       "    </tr>\n",
       "    <tr>\n",
       "      <th>36</th>\n",
       "      <td>2021-04-01</td>\n",
       "      <td>1.0</td>\n",
       "      <td>30000.0</td>\n",
       "      <td>5.0</td>\n",
       "      <td>440000.0</td>\n",
       "      <td>0.0</td>\n",
       "      <td>0.063830</td>\n",
       "    </tr>\n",
       "  </tbody>\n",
       "</table>\n",
       "</div>"
      ],
      "text/plain": [
       "          FOM  expansion_count  expansion_acv  renewal_count  renewal_acv  \\\n",
       "18 2020-12-01              2.0       147300.0            8.0     447750.0   \n",
       "0  2021-01-01              2.0       120000.0            7.0     370300.0   \n",
       "24 2021-02-01              4.0       276200.0            5.0     252400.0   \n",
       "30 2021-03-01              0.0            0.0            6.0     242000.0   \n",
       "36 2021-04-01              1.0        30000.0            5.0     440000.0   \n",
       "\n",
       "    avg_pct_increase  expansion_ratio  \n",
       "18               0.0         0.247542  \n",
       "0                0.0         0.244748  \n",
       "24               0.0         0.522512  \n",
       "30               NaN         0.000000  \n",
       "36               0.0         0.063830  "
      ]
     },
     "execution_count": 23,
     "metadata": {},
     "output_type": "execute_result"
    }
   ],
   "source": [
    "# Normalize status\n",
    "df['final_status'] = df['final_status'].str.lower()\n",
    "\n",
    "# Filter to only MOC = 12 (contracts that ended)\n",
    "df_moc12 = df[df['MOC'] == 12].copy()\n",
    "\n",
    "# Group by FOM and compute everything\n",
    "def summarize_group(x):\n",
    "    expansion = x[x['final_status'] == 'expansion']\n",
    "    renewal = x[x['final_status'] == 'renewal']\n",
    "    \n",
    "    # Weighted average of pre_contract_value_change_pct for expansion contracts\n",
    "    if not expansion.empty:\n",
    "        weighted_pct = (expansion['pre_contract_value_change_pct'] * expansion['contract_acv']).sum() / expansion['contract_acv'].sum()\n",
    "    else:\n",
    "        weighted_pct = float('nan')\n",
    "    \n",
    "    return pd.Series({\n",
    "        'expansion_count': len(expansion),\n",
    "        'expansion_acv': expansion['contract_acv'].sum(),\n",
    "        'renewal_count': len(renewal),\n",
    "        'renewal_acv': renewal['contract_acv'].sum(),\n",
    "        'avg_pct_increase': weighted_pct\n",
    "    })\n",
    "\n",
    "summary = df_moc12.groupby('FOM').apply(summarize_group).reset_index()\n",
    "\n",
    "# Expansion ratio\n",
    "summary['expansion_ratio'] = summary['expansion_acv'] / (\n",
    "    summary['expansion_acv'] + summary['renewal_acv']\n",
    ")\n",
    "\n",
    "# Format FOM as datetime\n",
    "summary['FOM'] = pd.to_datetime(summary['FOM'])\n",
    "summary = summary.sort_values(by='FOM')\n",
    "\n",
    "summary.head()\n"
   ]
  },
  {
   "cell_type": "code",
   "execution_count": 57,
   "id": "b0a68c83-fbfb-41ef-a554-f53bd0d1ed2f",
   "metadata": {},
   "outputs": [
    {
     "data": {
      "text/html": [
       "<div>\n",
       "<style scoped>\n",
       "    .dataframe tbody tr th:only-of-type {\n",
       "        vertical-align: middle;\n",
       "    }\n",
       "\n",
       "    .dataframe tbody tr th {\n",
       "        vertical-align: top;\n",
       "    }\n",
       "\n",
       "    .dataframe thead th {\n",
       "        text-align: right;\n",
       "    }\n",
       "</style>\n",
       "<table border=\"1\" class=\"dataframe\">\n",
       "  <thead>\n",
       "    <tr style=\"text-align: right;\">\n",
       "      <th></th>\n",
       "      <th>FOM</th>\n",
       "      <th>avg_upsell_amount</th>\n",
       "      <th>total_upsell_amount</th>\n",
       "      <th>upsell_count</th>\n",
       "    </tr>\n",
       "  </thead>\n",
       "  <tbody>\n",
       "    <tr>\n",
       "      <th>0</th>\n",
       "      <td>2020-12-01</td>\n",
       "      <td>37850.0</td>\n",
       "      <td>75700.0</td>\n",
       "      <td>2</td>\n",
       "    </tr>\n",
       "    <tr>\n",
       "      <th>1</th>\n",
       "      <td>2021-01-01</td>\n",
       "      <td>15175.0</td>\n",
       "      <td>30350.0</td>\n",
       "      <td>2</td>\n",
       "    </tr>\n",
       "    <tr>\n",
       "      <th>2</th>\n",
       "      <td>2021-02-01</td>\n",
       "      <td>27812.5</td>\n",
       "      <td>111250.0</td>\n",
       "      <td>4</td>\n",
       "    </tr>\n",
       "    <tr>\n",
       "      <th>3</th>\n",
       "      <td>2021-04-01</td>\n",
       "      <td>3950.0</td>\n",
       "      <td>3950.0</td>\n",
       "      <td>1</td>\n",
       "    </tr>\n",
       "    <tr>\n",
       "      <th>4</th>\n",
       "      <td>2021-05-01</td>\n",
       "      <td>19090.0</td>\n",
       "      <td>95450.0</td>\n",
       "      <td>5</td>\n",
       "    </tr>\n",
       "  </tbody>\n",
       "</table>\n",
       "</div>"
      ],
      "text/plain": [
       "         FOM  avg_upsell_amount  total_upsell_amount  upsell_count\n",
       "0 2020-12-01            37850.0              75700.0             2\n",
       "1 2021-01-01            15175.0              30350.0             2\n",
       "2 2021-02-01            27812.5             111250.0             4\n",
       "3 2021-04-01             3950.0               3950.0             1\n",
       "4 2021-05-01            19090.0              95450.0             5"
      ]
     },
     "execution_count": 57,
     "metadata": {},
     "output_type": "execute_result"
    }
   ],
   "source": [
    "\n",
    "# Load the contract data\n",
    "df_contracts = pd.read_excel(\"data/0_sim_contract.xlsx\")\n",
    "\n",
    "# Filter only upsell contracts\n",
    "df_upsell = df_contracts[df_contracts['isup'] == True].copy()\n",
    "\n",
    "# Convert contract_end_date to datetime and extract first-of-month (FOM)\n",
    "df_upsell['contract_end_date'] = pd.to_datetime(df_upsell['contract_end_date'])\n",
    "df_upsell['FOM'] = df_upsell['contract_end_date'].dt.to_period('M').dt.to_timestamp()\n",
    "\n",
    "# Group by FOM and calculate metrics\n",
    "df_upsell_summary = df_upsell.groupby('FOM').agg(\n",
    "    avg_upsell_amount=('next_contract_value_change', 'mean'),\n",
    "    total_upsell_amount=('next_contract_value_change', 'sum'),\n",
    "    upsell_count=('next_contract_value_change', 'count')\n",
    ").reset_index()\n",
    "\n",
    "df_summary = df_contracts.groupby('FOM').agg(\n",
    "    isup_count=('isup', 'sum'),\n",
    "    isdown_count=('isdown', 'sum'),\n",
    "    issame_count=('issame', 'sum'),\n",
    ").reset_index()\n",
    "\n",
    "\n",
    "# Fill NaNs with 0 for missing months\n",
    "df_summary.fillna(0, inplace=True)\n",
    "\n",
    "# Calculate ratios\n",
    "df_summary['isup_ratio_count'] = df_summary['isup_count'] / (\n",
    "    df_summary['isup_count'] + df_summary['isdown_count'] + df_summary['issame_count']\n",
    ")\n",
    "df_upsell_summary.head()\n"
   ]
  },
  {
   "cell_type": "code",
   "execution_count": 61,
   "id": "09976e0d-a1d0-4158-8f18-2e997b062654",
   "metadata": {},
   "outputs": [
    {
     "name": "stdout",
     "output_type": "stream",
     "text": [
      "         FOM  isup_count  isdown_count  issame_count  isup_acv  isdown_acv  \\\n",
      "0 2020-12-01           2             2             6       0.0         0.0   \n",
      "1 2021-01-01           2             1             6       0.0         0.0   \n",
      "2 2021-02-01           4             2             3       0.0         0.0   \n",
      "3 2021-03-01           0             0             6       0.0         0.0   \n",
      "4 2021-04-01           1             1             4       0.0         0.0   \n",
      "\n",
      "   issame_acv  isup_ratio_count  isup_ratio_acv  \n",
      "0         0.0          0.200000             NaN  \n",
      "1         0.0          0.222222             NaN  \n",
      "2         0.0          0.444444             NaN  \n",
      "3         0.0          0.000000             NaN  \n",
      "4         0.0          0.166667             NaN  \n"
     ]
    }
   ],
   "source": [
    "import pandas as pd\n",
    "\n",
    "# Load your contract data\n",
    "df_contracts = pd.read_excel(\"data/0_sim_contract.xlsx\")\n",
    "\n",
    "# Convert contract_end_date to datetime and extract FOM (First of Month)\n",
    "df_contracts['contract_end_date'] = pd.to_datetime(df_contracts['contract_end_date'])\n",
    "df_contracts['FOM'] = df_contracts['contract_end_date'].dt.to_period('M').dt.to_timestamp()\n",
    "\n",
    "# Group by FOM and calculate counts and total ACV\n",
    "df_summary = df_contracts.groupby('FOM').agg(\n",
    "    isup_count=('isup', 'sum'),\n",
    "    isdown_count=('isdown', 'sum'),\n",
    "    issame_count=('issame', 'sum'),\n",
    ").reset_index()\n",
    "\n",
    "\n",
    "# Fill NaNs with 0 for missing months\n",
    "df_summary.fillna(0, inplace=True)\n",
    "\n",
    "# Calculate ratios\n",
    "df_summary['isup_ratio_count'] = df_summary['isup_count'] / (\n",
    "    df_summary['isup_count'] + df_summary['isdown_count'] + df_summary['issame_count']\n",
    ")\n",
    "\n",
    "\n",
    "\n",
    "# Optional: View result\n",
    "print(df_summary.head())\n",
    "\n",
    "# Optional: Save to CSV\n",
    "# df_summary.to_csv(\"upsell_downsame_by_FOM.csv\", index=False)\n"
   ]
  },
  {
   "cell_type": "code",
   "execution_count": 59,
   "id": "fd01ebd9-e8c6-4ead-aa45-21775cd53b37",
   "metadata": {},
   "outputs": [
    {
     "data": {
      "text/plain": [
       "Index(['account_id', 'contract_id', 'contract_start_date', 'contract_end_date',\n",
       "       'number_contract', 'is_chr', 'industry', 'business_size',\n",
       "       'annual_revenue', 'has_product_1', 'has_product_2', 'has_product_3',\n",
       "       'has_product_4', 'has_product_5', 'contract_acv', 'per_product',\n",
       "       'has_next_contract', 'pre_contract_value_change',\n",
       "       'pre_contract_value_change_pct', 'next_contract_value_change',\n",
       "       'next_contract_value_change_category', 'first_contract_start_date',\n",
       "       'age_at_contract', 'contract_duration', 'num_pre_contract',\n",
       "       'first_contract_value', 'first_contract_value_change',\n",
       "       'first_contract_value_change_pct', 'group', 'group_des', 'ischr',\n",
       "       'isnew', 'isup', 'isdown', 'issame', 'acv_label', 'clv_contract',\n",
       "       'clv_contract_with_churn', 'customer_lifespan_contract'],\n",
       "      dtype='object')"
      ]
     },
     "execution_count": 59,
     "metadata": {},
     "output_type": "execute_result"
    }
   ],
   "source": [
    "df_contracts.columns"
   ]
  },
  {
   "cell_type": "code",
   "execution_count": 51,
   "id": "4120eb5c-e49a-4009-9c5b-2cb63824fe71",
   "metadata": {},
   "outputs": [],
   "source": [
    "dd=dff[dff['isup']==True]"
   ]
  },
  {
   "cell_type": "code",
   "execution_count": 55,
   "id": "134c68dd-62c3-4971-ae07-dee93c76c39c",
   "metadata": {},
   "outputs": [
    {
     "ename": "KeyError",
     "evalue": "'next_contract_value_change_pct'",
     "output_type": "error",
     "traceback": [
      "\u001b[1;31m---------------------------------------------------------------------------\u001b[0m",
      "\u001b[1;31mKeyError\u001b[0m                                  Traceback (most recent call last)",
      "File \u001b[1;32m~\\anaconda3\\Lib\\site-packages\\pandas\\core\\indexes\\base.py:3805\u001b[0m, in \u001b[0;36mIndex.get_loc\u001b[1;34m(self, key)\u001b[0m\n\u001b[0;32m   3804\u001b[0m \u001b[38;5;28;01mtry\u001b[39;00m:\n\u001b[1;32m-> 3805\u001b[0m     \u001b[38;5;28;01mreturn\u001b[39;00m \u001b[38;5;28mself\u001b[39m\u001b[38;5;241m.\u001b[39m_engine\u001b[38;5;241m.\u001b[39mget_loc(casted_key)\n\u001b[0;32m   3806\u001b[0m \u001b[38;5;28;01mexcept\u001b[39;00m \u001b[38;5;167;01mKeyError\u001b[39;00m \u001b[38;5;28;01mas\u001b[39;00m err:\n",
      "File \u001b[1;32mindex.pyx:167\u001b[0m, in \u001b[0;36mpandas._libs.index.IndexEngine.get_loc\u001b[1;34m()\u001b[0m\n",
      "File \u001b[1;32mindex.pyx:196\u001b[0m, in \u001b[0;36mpandas._libs.index.IndexEngine.get_loc\u001b[1;34m()\u001b[0m\n",
      "File \u001b[1;32mpandas\\\\_libs\\\\hashtable_class_helper.pxi:7081\u001b[0m, in \u001b[0;36mpandas._libs.hashtable.PyObjectHashTable.get_item\u001b[1;34m()\u001b[0m\n",
      "File \u001b[1;32mpandas\\\\_libs\\\\hashtable_class_helper.pxi:7089\u001b[0m, in \u001b[0;36mpandas._libs.hashtable.PyObjectHashTable.get_item\u001b[1;34m()\u001b[0m\n",
      "\u001b[1;31mKeyError\u001b[0m: 'next_contract_value_change_pct'",
      "\nThe above exception was the direct cause of the following exception:\n",
      "\u001b[1;31mKeyError\u001b[0m                                  Traceback (most recent call last)",
      "Cell \u001b[1;32mIn[55], line 1\u001b[0m\n\u001b[1;32m----> 1\u001b[0m dd[\u001b[38;5;124m'\u001b[39m\u001b[38;5;124mnext_contract_value_change_pct\u001b[39m\u001b[38;5;124m'\u001b[39m]\u001b[38;5;241m.\u001b[39munique()\n",
      "File \u001b[1;32m~\\anaconda3\\Lib\\site-packages\\pandas\\core\\frame.py:4102\u001b[0m, in \u001b[0;36mDataFrame.__getitem__\u001b[1;34m(self, key)\u001b[0m\n\u001b[0;32m   4100\u001b[0m \u001b[38;5;28;01mif\u001b[39;00m \u001b[38;5;28mself\u001b[39m\u001b[38;5;241m.\u001b[39mcolumns\u001b[38;5;241m.\u001b[39mnlevels \u001b[38;5;241m>\u001b[39m \u001b[38;5;241m1\u001b[39m:\n\u001b[0;32m   4101\u001b[0m     \u001b[38;5;28;01mreturn\u001b[39;00m \u001b[38;5;28mself\u001b[39m\u001b[38;5;241m.\u001b[39m_getitem_multilevel(key)\n\u001b[1;32m-> 4102\u001b[0m indexer \u001b[38;5;241m=\u001b[39m \u001b[38;5;28mself\u001b[39m\u001b[38;5;241m.\u001b[39mcolumns\u001b[38;5;241m.\u001b[39mget_loc(key)\n\u001b[0;32m   4103\u001b[0m \u001b[38;5;28;01mif\u001b[39;00m is_integer(indexer):\n\u001b[0;32m   4104\u001b[0m     indexer \u001b[38;5;241m=\u001b[39m [indexer]\n",
      "File \u001b[1;32m~\\anaconda3\\Lib\\site-packages\\pandas\\core\\indexes\\base.py:3812\u001b[0m, in \u001b[0;36mIndex.get_loc\u001b[1;34m(self, key)\u001b[0m\n\u001b[0;32m   3807\u001b[0m     \u001b[38;5;28;01mif\u001b[39;00m \u001b[38;5;28misinstance\u001b[39m(casted_key, \u001b[38;5;28mslice\u001b[39m) \u001b[38;5;129;01mor\u001b[39;00m (\n\u001b[0;32m   3808\u001b[0m         \u001b[38;5;28misinstance\u001b[39m(casted_key, abc\u001b[38;5;241m.\u001b[39mIterable)\n\u001b[0;32m   3809\u001b[0m         \u001b[38;5;129;01mand\u001b[39;00m \u001b[38;5;28many\u001b[39m(\u001b[38;5;28misinstance\u001b[39m(x, \u001b[38;5;28mslice\u001b[39m) \u001b[38;5;28;01mfor\u001b[39;00m x \u001b[38;5;129;01min\u001b[39;00m casted_key)\n\u001b[0;32m   3810\u001b[0m     ):\n\u001b[0;32m   3811\u001b[0m         \u001b[38;5;28;01mraise\u001b[39;00m InvalidIndexError(key)\n\u001b[1;32m-> 3812\u001b[0m     \u001b[38;5;28;01mraise\u001b[39;00m \u001b[38;5;167;01mKeyError\u001b[39;00m(key) \u001b[38;5;28;01mfrom\u001b[39;00m \u001b[38;5;21;01merr\u001b[39;00m\n\u001b[0;32m   3813\u001b[0m \u001b[38;5;28;01mexcept\u001b[39;00m \u001b[38;5;167;01mTypeError\u001b[39;00m:\n\u001b[0;32m   3814\u001b[0m     \u001b[38;5;66;03m# If we have a listlike key, _check_indexing_error will raise\u001b[39;00m\n\u001b[0;32m   3815\u001b[0m     \u001b[38;5;66;03m#  InvalidIndexError. Otherwise we fall through and re-raise\u001b[39;00m\n\u001b[0;32m   3816\u001b[0m     \u001b[38;5;66;03m#  the TypeError.\u001b[39;00m\n\u001b[0;32m   3817\u001b[0m     \u001b[38;5;28mself\u001b[39m\u001b[38;5;241m.\u001b[39m_check_indexing_error(key)\n",
      "\u001b[1;31mKeyError\u001b[0m: 'next_contract_value_change_pct'"
     ]
    }
   ],
   "source": [
    "dd['next_contract_value_change_pct'].unique()"
   ]
  },
  {
   "cell_type": "code",
   "execution_count": 33,
   "id": "a71e0819-5033-4a72-844f-a3c53831e07f",
   "metadata": {},
   "outputs": [
    {
     "data": {
      "text/plain": [
       "pre_contract_value_change_pct\n",
       " 0.000000    148\n",
       "-0.587629      2\n",
       "-0.082742      2\n",
       " 0.065979      2\n",
       "-0.175258      1\n",
       "-0.541371      1\n",
       " 0.455000      1\n",
       " 0.091250      1\n",
       " 0.695876      1\n",
       "-0.155706      1\n",
       "-0.129630      1\n",
       " 1.180412      1\n",
       " 0.076747      1\n",
       "-0.140893      1\n",
       "-0.312715      1\n",
       "-0.249516      1\n",
       "-0.277660      1\n",
       " 0.130584      1\n",
       " 0.164000      1\n",
       " 0.293333      1\n",
       "-0.083620      1\n",
       " 0.332474      1\n",
       "-0.437137      1\n",
       "Name: count, dtype: int64"
      ]
     },
     "execution_count": 33,
     "metadata": {},
     "output_type": "execute_result"
    }
   ],
   "source": [
    " expansion = df[df['final_status'] == 'expansion']\n",
    "expansion=expansion[expansion['MOC']==12]\n",
    "expansion['pre_contract_value_change_pct'].value_counts()"
   ]
  },
  {
   "cell_type": "code",
   "execution_count": 21,
   "id": "f4c40fdf-68d7-4e15-b763-5647704cf131",
   "metadata": {},
   "outputs": [
    {
     "name": "stderr",
     "output_type": "stream",
     "text": [
      "C:\\Users\\samir\\AppData\\Local\\Temp\\ipykernel_43084\\1833169627.py:8: DeprecationWarning: DataFrameGroupBy.apply operated on the grouping columns. This behavior is deprecated, and in a future version of pandas the grouping columns will be excluded from the operation. Either pass `include_groups=False` to exclude the groupings or explicitly select the grouping columns after groupby to silence this warning.\n",
      "  summary = df_moc12.groupby('FOM').apply(lambda x: pd.Series({\n"
     ]
    },
    {
     "data": {
      "text/html": [
       "<div>\n",
       "<style scoped>\n",
       "    .dataframe tbody tr th:only-of-type {\n",
       "        vertical-align: middle;\n",
       "    }\n",
       "\n",
       "    .dataframe tbody tr th {\n",
       "        vertical-align: top;\n",
       "    }\n",
       "\n",
       "    .dataframe thead th {\n",
       "        text-align: right;\n",
       "    }\n",
       "</style>\n",
       "<table border=\"1\" class=\"dataframe\">\n",
       "  <thead>\n",
       "    <tr style=\"text-align: right;\">\n",
       "      <th></th>\n",
       "      <th>FOM</th>\n",
       "      <th>expansion_count</th>\n",
       "      <th>renewal_count</th>\n",
       "      <th>expansion_acv</th>\n",
       "      <th>renewal_acv</th>\n",
       "      <th>avg_pct_increase</th>\n",
       "      <th>expansion_ratio</th>\n",
       "    </tr>\n",
       "  </thead>\n",
       "  <tbody>\n",
       "    <tr>\n",
       "      <th>18</th>\n",
       "      <td>2020-12-01</td>\n",
       "      <td>2.0</td>\n",
       "      <td>8.0</td>\n",
       "      <td>147300.0</td>\n",
       "      <td>447750.0</td>\n",
       "      <td>0.0</td>\n",
       "      <td>0.247542</td>\n",
       "    </tr>\n",
       "    <tr>\n",
       "      <th>0</th>\n",
       "      <td>2021-01-01</td>\n",
       "      <td>2.0</td>\n",
       "      <td>7.0</td>\n",
       "      <td>120000.0</td>\n",
       "      <td>370300.0</td>\n",
       "      <td>0.0</td>\n",
       "      <td>0.244748</td>\n",
       "    </tr>\n",
       "    <tr>\n",
       "      <th>24</th>\n",
       "      <td>2021-02-01</td>\n",
       "      <td>4.0</td>\n",
       "      <td>5.0</td>\n",
       "      <td>276200.0</td>\n",
       "      <td>252400.0</td>\n",
       "      <td>0.0</td>\n",
       "      <td>0.522512</td>\n",
       "    </tr>\n",
       "    <tr>\n",
       "      <th>30</th>\n",
       "      <td>2021-03-01</td>\n",
       "      <td>0.0</td>\n",
       "      <td>6.0</td>\n",
       "      <td>0.0</td>\n",
       "      <td>242000.0</td>\n",
       "      <td>NaN</td>\n",
       "      <td>0.000000</td>\n",
       "    </tr>\n",
       "    <tr>\n",
       "      <th>36</th>\n",
       "      <td>2021-04-01</td>\n",
       "      <td>1.0</td>\n",
       "      <td>5.0</td>\n",
       "      <td>30000.0</td>\n",
       "      <td>440000.0</td>\n",
       "      <td>0.0</td>\n",
       "      <td>0.063830</td>\n",
       "    </tr>\n",
       "  </tbody>\n",
       "</table>\n",
       "</div>"
      ],
      "text/plain": [
       "          FOM  expansion_count  renewal_count  expansion_acv  renewal_acv  \\\n",
       "18 2020-12-01              2.0            8.0       147300.0     447750.0   \n",
       "0  2021-01-01              2.0            7.0       120000.0     370300.0   \n",
       "24 2021-02-01              4.0            5.0       276200.0     252400.0   \n",
       "30 2021-03-01              0.0            6.0            0.0     242000.0   \n",
       "36 2021-04-01              1.0            5.0        30000.0     440000.0   \n",
       "\n",
       "    avg_pct_increase  expansion_ratio  \n",
       "18               0.0         0.247542  \n",
       "0                0.0         0.244748  \n",
       "24               0.0         0.522512  \n",
       "30               NaN         0.000000  \n",
       "36               0.0         0.063830  "
      ]
     },
     "execution_count": 21,
     "metadata": {},
     "output_type": "execute_result"
    }
   ],
   "source": [
    "# Normalize final_status\n",
    "df['final_status'] = df['final_status'].str.lower()\n",
    "\n",
    "# Filter only contracts that are in their final month (MOC = 12)\n",
    "df_moc12 = df[df['MOC'] == 12].copy()\n",
    "\n",
    "# Group by FOM and calculate summary stats\n",
    "summary = df_moc12.groupby('FOM').apply(lambda x: pd.Series({\n",
    "    # Counts\n",
    "    'expansion_count': (x['final_status'] == 'expansion').sum(),\n",
    "    'renewal_count': (x['final_status'] == 'renewal').sum(),\n",
    "    \n",
    "    # ACV totals\n",
    "    'expansion_acv': x.loc[x['final_status'] == 'expansion', 'contract_acv'].sum(),\n",
    "    'renewal_acv': x.loc[x['final_status'] == 'renewal', 'contract_acv'].sum(),\n",
    "    \n",
    "    # Avg % increase for expansions only\n",
    "    'avg_pct_increase': x.loc[x['final_status'] == 'expansion', 'pre_contract_value_change_pct'].mean()\n",
    "})).reset_index()\n",
    "\n",
    "# Compute expansion ratio\n",
    "summary['expansion_ratio'] = summary['expansion_acv'] / (\n",
    "    summary['expansion_acv'] + summary['renewal_acv']\n",
    ")\n",
    "\n",
    "# Clean up FOM and sort\n",
    "summary['FOM'] = pd.to_datetime(summary['FOM'])\n",
    "summary = summary.sort_values(by='FOM')\n",
    "\n",
    "# Optional: print or export\n",
    "summary.head()\n",
    "\n",
    "# Optional: save to CSV\n",
    "# summary.to_csv(\"expansion_renewal_by_FOM.csv\", index=False)\n"
   ]
  },
  {
   "cell_type": "code",
   "execution_count": null,
   "id": "e1a92b9d-3095-4d78-921d-005217d02c55",
   "metadata": {},
   "outputs": [],
   "source": [
    "df_final_merged.to_csv('data/5_stage_simulation.csv', index=False)"
   ]
  },
  {
   "cell_type": "code",
   "execution_count": 19,
   "id": "d732923b-e075-41af-9323-a6ec359f4eb6",
   "metadata": {},
   "outputs": [
    {
     "data": {
      "text/plain": [
       "Index(['FOM', 'contract_id', 'MOC', 'POC', 'usage_score', 'support_score',\n",
       "       'activity_score', 'score_y_c', 'ischr', 'score_final', 'score_final_b',\n",
       "       'support_score_label', 'usage_score_label', 'activity_score_label',\n",
       "       'account_id', 'number_contract', 'industry', 'business_size',\n",
       "       'annual_revenue', 'has_product_1', 'has_product_2', 'has_product_3',\n",
       "       'has_product_4', 'has_product_5', 'contract_acv', 'per_product',\n",
       "       'pre_contract_value_change_pct', 'age_at_contract', 'num_pre_contract',\n",
       "       'first_contract_value_change_pct', 'group', 'group_des', 'acv_label',\n",
       "       'clv_contract', 'clv_contract_with_churn', 'customer_lifespan_contract',\n",
       "       'final_status', 'stage', 'stage_at_moc12'],\n",
       "      dtype='object')"
      ]
     },
     "execution_count": 19,
     "metadata": {},
     "output_type": "execute_result"
    }
   ],
   "source": [
    "df.columns"
   ]
  },
  {
   "cell_type": "code",
   "execution_count": 17,
   "id": "883b681a-6b37-4f71-b5aa-210de620d948",
   "metadata": {},
   "outputs": [
    {
     "data": {
      "text/plain": [
       "<bound method IndexOpsMixin.tolist of Index(['Month', 'New Accounts', 'New ACV', 'Renew Accounts', 'Renew ACV',\n",
       "       'Upsell Accounts', 'Upsell ACV', 'Churn Accounts', 'Churn ACV',\n",
       "       'Cumulative Churn Accounts', 'Cumulative New Accounts',\n",
       "       'Cumulative Renew Accounts', 'Cumulative Churn ACV',\n",
       "       'Cumulative New ACV', 'Cumulative Renew ACV', 'Active Accounts',\n",
       "       'Active ACV', 'Churn Accounts Rate', 'New Accounts Rate',\n",
       "       'Churn ACV Rate', 'New ACV Rate', 'ch1', 'ch1_d', 'ex1', 'ex1_d', 're1',\n",
       "       're1_d', 'ch2', 'ch2_d', 'ex2', 'ex2_d', 're2', 're2_d', 'ch3', 'ch3_d',\n",
       "       'ex3', 'ex3_d', 're3', 're3_d', 'ch4', 'ch4_d', 'ex4', 'ex4_d', 're4',\n",
       "       're4_d', 'ch5', 'ch5_d', 'ex5', 'ex5_d', 're5', 're5_d', 'ch6', 'ch6_d',\n",
       "       'ex6', 'ex6_d', 're6', 're6_d', 'real_ch', 'real_ch_d', 'real_ex',\n",
       "       'real_ex_d', 'real_re', 'real_re_d', 'real_ex_pct', 'real_ex_d_pct'],\n",
       "      dtype='object')>"
      ]
     },
     "execution_count": 17,
     "metadata": {},
     "output_type": "execute_result"
    }
   ],
   "source": [
    "df_final_merged.columns.tolist\n"
   ]
  },
  {
   "cell_type": "code",
   "execution_count": null,
   "id": "b4eab3b5-f84c-45b1-a19e-6b622f813d2e",
   "metadata": {},
   "outputs": [],
   "source": [
    "# Calculate 3-month rolling average of new_account_rate\n",
    "df_final_merged['avg_new_rate'] = df_final_merged['New Accounts Rate'].rolling(window=3).mean()\n",
    "\n",
    "\n",
    "# Optional: Display result\n",
    "print(df_final_merged[['Month', 'new_account_rate', 'avg_new_rate']].tail())"
   ]
  },
  {
   "cell_type": "code",
   "execution_count": null,
   "id": "2cd1c294-4faf-4a90-9cb0-64699b163064",
   "metadata": {},
   "outputs": [],
   "source": [
    "get the average of last 3 months New Accounts Rate as new field:\"avg_new_rate\"\n",
    "\n",
    "for selected "
   ]
  },
  {
   "cell_type": "code",
   "execution_count": 24,
   "id": "4796f0ea-fe4f-4cd4-bded-4ce2e0307d51",
   "metadata": {},
   "outputs": [
    {
     "data": {
      "text/plain": [
       "array(['renewal', 'risky', 'expansion', '0'], dtype=object)"
      ]
     },
     "execution_count": 24,
     "metadata": {},
     "output_type": "execute_result"
    }
   ],
   "source": [
    "df['final_status'].unique()"
   ]
  },
  {
   "cell_type": "code",
   "execution_count": 26,
   "id": "ff0e14b7-5d62-4400-b6ba-7591865ebde4",
   "metadata": {},
   "outputs": [
    {
     "data": {
      "text/plain": [
       "array(['adoption', 'renewal', 'risky', 'expansion'], dtype=object)"
      ]
     },
     "execution_count": 26,
     "metadata": {},
     "output_type": "execute_result"
    }
   ],
   "source": [
    "df['stage'].unique()"
   ]
  },
  {
   "cell_type": "code",
   "execution_count": 12,
   "id": "388d2eca-a2a4-4daf-b9e9-a1a6caf30cbc",
   "metadata": {},
   "outputs": [
    {
     "data": {
      "text/plain": [
       "('1/1/2020', '9/1/2026')"
      ]
     },
     "execution_count": 12,
     "metadata": {},
     "output_type": "execute_result"
    }
   ],
   "source": [
    "df['FOM'].min(), df['FOM'].max()"
   ]
  },
  {
   "cell_type": "code",
   "execution_count": 14,
   "id": "21ff42e9-3e91-4fc0-8e2c-6a1f396e773f",
   "metadata": {},
   "outputs": [
    {
     "data": {
      "text/plain": [
       "('1/1/2021', '9/1/2026')"
      ]
     },
     "execution_count": 14,
     "metadata": {},
     "output_type": "execute_result"
    }
   ],
   "source": [
    "df_filtered['FOM'].min(), df_filtered['FOM'].max()"
   ]
  },
  {
   "cell_type": "code",
   "execution_count": 18,
   "id": "bc24d8ac-5b82-4b14-a0c0-b27a7e2bd4f5",
   "metadata": {},
   "outputs": [
    {
     "data": {
      "text/plain": [
       "(77, 37)"
      ]
     },
     "execution_count": 18,
     "metadata": {},
     "output_type": "execute_result"
    }
   ],
   "source": [
    "df_result.shape"
   ]
  },
  {
   "cell_type": "code",
   "execution_count": null,
   "id": "f9e0dd14-69d1-4183-bc10-e412cb6f4ed6",
   "metadata": {},
   "outputs": [],
   "source": []
  }
 ],
 "metadata": {
  "kernelspec": {
   "display_name": "Python [conda env:base] *",
   "language": "python",
   "name": "conda-base-py"
  },
  "language_info": {
   "codemirror_mode": {
    "name": "ipython",
    "version": 3
   },
   "file_extension": ".py",
   "mimetype": "text/x-python",
   "name": "python",
   "nbconvert_exporter": "python",
   "pygments_lexer": "ipython3",
   "version": "3.12.7"
  }
 },
 "nbformat": 4,
 "nbformat_minor": 5
}
