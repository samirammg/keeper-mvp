{
 "cells": [
  {
   "cell_type": "code",
   "execution_count": null,
   "id": "77ce2ae3-89cd-4863-bd15-72e0b6093aeb",
   "metadata": {},
   "outputs": [],
   "source": []
  }
 ],
 "metadata": {
  "kernelspec": {
   "display_name": "",
   "name": ""
  },
  "language_info": {
   "name": ""
  }
 },
 "nbformat": 4,
 "nbformat_minor": 5
}
