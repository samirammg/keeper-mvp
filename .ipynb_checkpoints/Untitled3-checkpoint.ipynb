{
 "cells": [
  {
   "cell_type": "code",
   "execution_count": null,
   "id": "5403c9c7-8745-421e-8276-8bd3bd818e41",
   "metadata": {},
   "outputs": [],
   "source": []
  }
 ],
 "metadata": {
  "kernelspec": {
   "display_name": "",
   "name": ""
  },
  "language_info": {
   "name": ""
  }
 },
 "nbformat": 4,
 "nbformat_minor": 5
}
